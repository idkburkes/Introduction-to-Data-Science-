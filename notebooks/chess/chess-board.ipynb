{
 "cells": [
  {
   "cell_type": "code",
   "execution_count": 1,
   "id": "34c7e890",
   "metadata": {
    "_cell_guid": "b1076dfc-b9ad-4769-8c92-a6c4dae69d19",
    "_uuid": "8f2839f25d086af736a60e9eeb907d3b93b6e0e5",
    "execution": {
     "iopub.execute_input": "2022-01-26T03:59:45.625151Z",
     "iopub.status.busy": "2022-01-26T03:59:45.623310Z",
     "iopub.status.idle": "2022-01-26T03:59:45.635979Z",
     "shell.execute_reply": "2022-01-26T03:59:45.636492Z",
     "shell.execute_reply.started": "2022-01-26T03:59:15.299325Z"
    },
    "papermill": {
     "duration": 0.029306,
     "end_time": "2022-01-26T03:59:45.636831",
     "exception": false,
     "start_time": "2022-01-26T03:59:45.607525",
     "status": "completed"
    },
    "tags": []
   },
   "outputs": [],
   "source": [
    "# This Python 3 environment comes with many helpful analytics libraries installed\n",
    "# It is defined by the kaggle/python Docker image: https://github.com/kaggle/docker-python\n",
    "# For example, here's several helpful packages to load\n",
    "\n",
    "import numpy as np # linear algebra\n",
    "import pandas as pd # data processing, CSV file I/O (e.g. pd.read_csv)\n",
    "import matplotlib.pyplot as plt # data visualization\n",
    "\n",
    "# Input data files are available in the read-only \"../input/\" directory\n",
    "# For example, running this (by clicking run or pressing Shift+Enter) will list all files under the input directory\n",
    "\n",
    "import os\n",
    "for dirname, _, filenames in os.walk('/kaggle/input'):\n",
    "    for filename in filenames:\n",
    "        print(os.path.join(dirname, filename))\n",
    "\n",
    "# You can write up to 20GB to the current directory (/kaggle/working/) that gets preserved as output when you create a version using \"Save & Run All\" \n",
    "# You can also write temporary files to /kaggle/temp/, but they won't be saved outside of the current session"
   ]
  },
  {
   "cell_type": "code",
   "execution_count": 2,
   "id": "6c5a5f3a",
   "metadata": {
    "execution": {
     "iopub.execute_input": "2022-01-26T03:59:45.661938Z",
     "iopub.status.busy": "2022-01-26T03:59:45.661224Z",
     "iopub.status.idle": "2022-01-26T03:59:45.665279Z",
     "shell.execute_reply": "2022-01-26T03:59:45.665887Z",
     "shell.execute_reply.started": "2022-01-26T03:59:15.332646Z"
    },
    "papermill": {
     "duration": 0.017002,
     "end_time": "2022-01-26T03:59:45.666049",
     "exception": false,
     "start_time": "2022-01-26T03:59:45.649047",
     "status": "completed"
    },
    "tags": []
   },
   "outputs": [],
   "source": [
    "black, white, blue, red = (0.0,0.0,0.0), (1.0,1.0,1.0), (0.0,1.0,1.0), (1.0,0.0,0.0)\n"
   ]
  },
  {
   "cell_type": "code",
   "execution_count": 3,
   "id": "3cd2d82e",
   "metadata": {
    "execution": {
     "iopub.execute_input": "2022-01-26T03:59:45.689638Z",
     "iopub.status.busy": "2022-01-26T03:59:45.688933Z",
     "iopub.status.idle": "2022-01-26T03:59:45.705741Z",
     "shell.execute_reply": "2022-01-26T03:59:45.705110Z",
     "shell.execute_reply.started": "2022-01-26T03:59:15.339193Z"
    },
    "papermill": {
     "duration": 0.029746,
     "end_time": "2022-01-26T03:59:45.705900",
     "exception": false,
     "start_time": "2022-01-26T03:59:45.676154",
     "status": "completed"
    },
    "tags": []
   },
   "outputs": [],
   "source": [
    "# Define ChessBoard class and initialize board\n",
    "\n",
    "import matplotlib.pyplot as plt\n",
    "import numpy as np\n",
    "\n",
    "\n",
    "class ChessBoard:\n",
    "\n",
    "    def __init__(self):\n",
    "        # initialize checkered board\n",
    "        grid = np.ones((8,8,3))\n",
    "        for i in range(8):\n",
    "            for j in range(8):\n",
    "                if (i % 2 != 0 and j % 2 == 0) or (i % 2 == 0 and j % 2 != 0):\n",
    "                    grid[i][j] = black\n",
    "        self.grid = grid\n",
    "    \n",
    "    def render(self):\n",
    "        plt.imshow(self.grid)\n",
    "    \n",
    "    def add_red(self, row, col):\n",
    "        self.grid[row][col] = red\n",
    "    \n",
    "    def add_blue(self, row, col):\n",
    "        self.grid[row][col] = blue\n",
    "    \n",
    "    def is_under_attack(self):\n",
    "        for i in range(8):\n",
    "            for j in range(8):\n",
    "                if tuple(self.grid[i][j]) == blue and self.attacker_in_position(i,j):\n",
    "                    return True\n",
    "        return False\n",
    "    \n",
    "    def attacker_in_position(self, row, col):\n",
    "        return self.attacker_in_row(row) or self.attacker_in_column(col) or self.attacker_in_diagonal(row,col)\n",
    "    \n",
    "    def attacker_in_row(self, row):\n",
    "        for rgb in self.grid[row]:\n",
    "            if tuple(rgb) == red:\n",
    "                return True\n",
    "        return False\n",
    "    \n",
    "    def attacker_in_column(self, column):\n",
    "        col = [row[column] for row in self.grid]\n",
    "        for rgb in col:\n",
    "            if tuple(rgb) == red:\n",
    "                return True\n",
    "        return False \n",
    "    \n",
    "    def attacker_in_diagonal(self, row, col):\n",
    "        N = len(self.grid)\n",
    "        for i in range(N):\n",
    "            # diagonal column\n",
    "            diag_col = i + col - row\n",
    "            \n",
    "            #reverse diagonal column\n",
    "            rev_diag_col =  row + col - i\n",
    "              \n",
    "            if diag_col > 0 and diag_col < N and tuple(self.grid[i][diag_col]) == red:\n",
    "                return True\n",
    "            elif rev_diag_col > 0 and rev_diag_col < N and tuple(self.grid[i][rev_diag_col]) == red:\n",
    "                return True\n",
    "        return False\n",
    "    "
   ]
  },
  {
   "cell_type": "code",
   "execution_count": 4,
   "id": "e12dacca",
   "metadata": {
    "execution": {
     "iopub.execute_input": "2022-01-26T03:59:45.733266Z",
     "iopub.status.busy": "2022-01-26T03:59:45.732628Z",
     "iopub.status.idle": "2022-01-26T03:59:45.973007Z",
     "shell.execute_reply": "2022-01-26T03:59:45.972292Z",
     "shell.execute_reply.started": "2022-01-26T03:59:15.360394Z"
    },
    "papermill": {
     "duration": 0.257616,
     "end_time": "2022-01-26T03:59:45.973175",
     "exception": false,
     "start_time": "2022-01-26T03:59:45.715559",
     "status": "completed"
    },
    "tags": []
   },
   "outputs": [
    {
     "data": {
      "image/png": "[encoded data removed]",
      "text/plain": [
       "<Figure size 432x288 with 1 Axes>"
      ]
     },
     "metadata": {
      "needs_background": "light"
     },
     "output_type": "display_data"
    }
   ],
   "source": [
    "# Shows initial board\n",
    "\n",
    "board = ChessBoard()\n",
    "board.render()"
   ]
  },
  {
   "cell_type": "markdown",
   "id": "8a5e416e",
   "metadata": {
    "papermill": {
     "duration": 0.010171,
     "end_time": "2022-01-26T03:59:45.994475",
     "exception": false,
     "start_time": "2022-01-26T03:59:45.984304",
     "status": "completed"
    },
    "tags": []
   },
   "source": [
    "# Scenario 1 - Horizontal Attack #"
   ]
  },
  {
   "cell_type": "code",
   "execution_count": 5,
   "id": "e8cd389c",
   "metadata": {
    "execution": {
     "iopub.execute_input": "2022-01-26T03:59:46.022601Z",
     "iopub.status.busy": "2022-01-26T03:59:46.021901Z",
     "iopub.status.idle": "2022-01-26T03:59:46.318986Z",
     "shell.execute_reply": "2022-01-26T03:59:46.318381Z",
     "shell.execute_reply.started": "2022-01-26T03:59:15.637141Z"
    },
    "papermill": {
     "duration": 0.314076,
     "end_time": "2022-01-26T03:59:46.319127",
     "exception": false,
     "start_time": "2022-01-26T03:59:46.005051",
     "status": "completed"
    },
    "tags": []
   },
   "outputs": [
    {
     "name": "stdout",
     "output_type": "stream",
     "text": [
      "Our blue piece is under attack\n"
     ]
    },
    {
     "data": {
      "image/png": "[encoded data removed]",
      "text/plain": [
       "<Figure size 432x288 with 1 Axes>"
      ]
     },
     "metadata": {
      "needs_background": "light"
     },
     "output_type": "display_data"
    }
   ],
   "source": [
    "board = ChessBoard()\n",
    "board.add_red(5,5)\n",
    "board.add_blue(5,1)\n",
    "if board.is_under_attack():\n",
    "    print('Our blue piece is under attack')\n",
    "else:\n",
    "    print('Our blue piece is safe')\n",
    "board.render()\n"
   ]
  },
  {
   "cell_type": "markdown",
   "id": "f91c95cd",
   "metadata": {
    "papermill": {
     "duration": 0.011222,
     "end_time": "2022-01-26T03:59:46.341693",
     "exception": false,
     "start_time": "2022-01-26T03:59:46.330471",
     "status": "completed"
    },
    "tags": []
   },
   "source": [
    "# Scenario 2 - Vertical Attack #\n"
   ]
  },
  {
   "cell_type": "code",
   "execution_count": 6,
   "id": "2cdb0191",
   "metadata": {
    "execution": {
     "iopub.execute_input": "2022-01-26T03:59:46.374883Z",
     "iopub.status.busy": "2022-01-26T03:59:46.374139Z",
     "iopub.status.idle": "2022-01-26T03:59:46.567734Z",
     "shell.execute_reply": "2022-01-26T03:59:46.568215Z",
     "shell.execute_reply.started": "2022-01-26T03:59:15.970488Z"
    },
    "papermill": {
     "duration": 0.215271,
     "end_time": "2022-01-26T03:59:46.568426",
     "exception": false,
     "start_time": "2022-01-26T03:59:46.353155",
     "status": "completed"
    },
    "tags": []
   },
   "outputs": [
    {
     "name": "stdout",
     "output_type": "stream",
     "text": [
      "Our blue piece is under attack\n"
     ]
    },
    {
     "data": {
      "image/png": "[encoded data removed]",
      "text/plain": [
       "<Figure size 432x288 with 1 Axes>"
      ]
     },
     "metadata": {
      "needs_background": "light"
     },
     "output_type": "display_data"
    }
   ],
   "source": [
    "board = ChessBoard()\n",
    "board.add_red(5,5)\n",
    "board.add_blue(2,5)\n",
    "if board.is_under_attack():\n",
    "    print('Our blue piece is under attack')\n",
    "else:\n",
    "    print('Our blue piece is safe')\n",
    "board.render()\n"
   ]
  },
  {
   "cell_type": "markdown",
   "id": "f4b4b3f5",
   "metadata": {
    "papermill": {
     "duration": 0.012567,
     "end_time": "2022-01-26T03:59:46.593398",
     "exception": false,
     "start_time": "2022-01-26T03:59:46.580831",
     "status": "completed"
    },
    "tags": []
   },
   "source": [
    "# Scenario 3 - Diagonal Attack"
   ]
  },
  {
   "cell_type": "code",
   "execution_count": 7,
   "id": "8c88dfc2",
   "metadata": {
    "execution": {
     "iopub.execute_input": "2022-01-26T03:59:46.621655Z",
     "iopub.status.busy": "2022-01-26T03:59:46.620961Z",
     "iopub.status.idle": "2022-01-26T03:59:46.821254Z",
     "shell.execute_reply": "2022-01-26T03:59:46.822087Z",
     "shell.execute_reply.started": "2022-01-26T03:59:16.191736Z"
    },
    "papermill": {
     "duration": 0.216548,
     "end_time": "2022-01-26T03:59:46.822274",
     "exception": false,
     "start_time": "2022-01-26T03:59:46.605726",
     "status": "completed"
    },
    "tags": []
   },
   "outputs": [
    {
     "name": "stdout",
     "output_type": "stream",
     "text": [
      "Our blue piece is under attack\n"
     ]
    },
    {
     "data": {
      "image/png": "[encoded data removed]",
      "text/plain": [
       "<Figure size 432x288 with 1 Axes>"
      ]
     },
     "metadata": {
      "needs_background": "light"
     },
     "output_type": "display_data"
    }
   ],
   "source": [
    "board = ChessBoard()\n",
    "board.add_red(1,2)\n",
    "board.add_blue(4,5)\n",
    "if board.is_under_attack():\n",
    "    print('Our blue piece is under attack')\n",
    "else:\n",
    "    print('Our blue piece is safe')\n",
    "board.render()"
   ]
  },
  {
   "cell_type": "markdown",
   "id": "7084489e",
   "metadata": {
    "papermill": {
     "duration": 0.012665,
     "end_time": "2022-01-26T03:59:46.848212",
     "exception": false,
     "start_time": "2022-01-26T03:59:46.835547",
     "status": "completed"
    },
    "tags": []
   },
   "source": [
    "# Scenario 4 - Not Under Attack #"
   ]
  },
  {
   "cell_type": "code",
   "execution_count": 8,
   "id": "04b9688c",
   "metadata": {
    "execution": {
     "iopub.execute_input": "2022-01-26T03:59:46.881562Z",
     "iopub.status.busy": "2022-01-26T03:59:46.880689Z",
     "iopub.status.idle": "2022-01-26T03:59:47.085739Z",
     "shell.execute_reply": "2022-01-26T03:59:47.086266Z",
     "shell.execute_reply.started": "2022-01-26T03:59:16.410278Z"
    },
    "papermill": {
     "duration": 0.22524,
     "end_time": "2022-01-26T03:59:47.086450",
     "exception": false,
     "start_time": "2022-01-26T03:59:46.861210",
     "status": "completed"
    },
    "tags": []
   },
   "outputs": [
    {
     "name": "stdout",
     "output_type": "stream",
     "text": [
      "Our blue piece is safe\n"
     ]
    },
    {
     "data": {
      "image/png": "[encoded data removed]",
      "text/plain": [
       "<Figure size 432x288 with 1 Axes>"
      ]
     },
     "metadata": {
      "needs_background": "light"
     },
     "output_type": "display_data"
    }
   ],
   "source": [
    "board = ChessBoard()\n",
    "board.add_red(1,2)\n",
    "board.add_red(7,3)\n",
    "board.add_red(6,5)\n",
    "board.add_red(2,5)\n",
    "board.add_red(3,2)\n",
    "board.add_blue(4,4)\n",
    "if board.is_under_attack():\n",
    "    print('Our blue piece is under attack')\n",
    "else:\n",
    "    print('Our blue piece is safe')\n",
    "board.render()"
   ]
  }
 ],
 "metadata": {
  "kernelspec": {
   "display_name": "Python 3",
   "language": "python",
   "name": "python3"
  },
  "language_info": {
   "codemirror_mode": {
    "name": "ipython",
    "version": 3
   },
   "file_extension": ".py",
   "mimetype": "text/x-python",
   "name": "python",
   "nbconvert_exporter": "python",
   "pygments_lexer": "ipython3",
   "version": "3.7.12"
  },
  "papermill": {
   "default_parameters": {},
   "duration": 13.181287,
   "end_time": "2022-01-26T03:59:47.713698",
   "environment_variables": {},
   "exception": null,
   "input_path": "__notebook__.ipynb",
   "output_path": "__notebook__.ipynb",
   "parameters": {},
   "start_time": "2022-01-26T03:59:34.532411",
   "version": "2.3.3"
  }
 },
 "nbformat": 4,
 "nbformat_minor": 5
}
