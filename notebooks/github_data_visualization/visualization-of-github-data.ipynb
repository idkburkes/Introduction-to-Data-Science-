{
 "cells": [
  {
   "cell_type": "code",
   "execution_count": 1,
   "id": "1185eb20",
   "metadata": {
    "_cell_guid": "b1076dfc-b9ad-4769-8c92-a6c4dae69d19",
    "_uuid": "8f2839f25d086af736a60e9eeb907d3b93b6e0e5",
    "execution": {
     "iopub.execute_input": "2022-01-27T04:40:11.136044Z",
     "iopub.status.busy": "2022-01-27T04:40:11.130301Z",
     "iopub.status.idle": "2022-01-27T04:40:11.151579Z",
     "shell.execute_reply": "2022-01-27T04:40:11.150966Z",
     "shell.execute_reply.started": "2022-01-27T03:52:00.561863Z"
    },
    "papermill": {
     "duration": 0.045194,
     "end_time": "2022-01-27T04:40:11.151712",
     "exception": false,
     "start_time": "2022-01-27T04:40:11.106518",
     "status": "completed"
    },
    "tags": []
   },
   "outputs": [
    {
     "name": "stdout",
     "output_type": "stream",
     "text": [
      "/kaggle/input/github-programming-languages-data/issues.csv\n",
      "/kaggle/input/github-programming-languages-data/prs.csv\n",
      "/kaggle/input/github-programming-languages-data/repos.csv\n"
     ]
    }
   ],
   "source": [
    "# This Python 3 environment comes with many helpful analytics libraries installed\n",
    "# It is defined by the kaggle/python Docker image: https://github.com/kaggle/docker-python\n",
    "# For example, here's several helpful packages to load\n",
    "\n",
    "import numpy as np # linear algebra\n",
    "import pandas as pd # data processing, CSV file I/O (e.g. pd.read_csv)\n",
    "\n",
    "# Input data files are available in the read-only \"../input/\" directory\n",
    "# For example, running this (by clicking run or pressing Shift+Enter) will list all files under the input directory\n",
    "\n",
    "import os\n",
    "for dirname, _, filenames in os.walk('/kaggle/input'):\n",
    "    for filename in filenames:\n",
    "        print(os.path.join(dirname, filename))\n",
    "\n",
    "# You can write up to 20GB to the current directory (/kaggle/working/) that gets preserved as output when you create a version using \"Save & Run All\" \n",
    "# You can also write temporary files to /kaggle/temp/, but they won't be saved outside of the current session"
   ]
  },
  {
   "cell_type": "markdown",
   "id": "07a58dc3",
   "metadata": {
    "papermill": {
     "duration": 0.013033,
     "end_time": "2022-01-27T04:40:11.179664",
     "exception": false,
     "start_time": "2022-01-27T04:40:11.166631",
     "status": "completed"
    },
    "tags": []
   },
   "source": [
    "## Load Data ##"
   ]
  },
  {
   "cell_type": "code",
   "execution_count": 2,
   "id": "da9f9719",
   "metadata": {
    "execution": {
     "iopub.execute_input": "2022-01-27T04:40:11.212028Z",
     "iopub.status.busy": "2022-01-27T04:40:11.210072Z",
     "iopub.status.idle": "2022-01-27T04:40:11.241169Z",
     "shell.execute_reply": "2022-01-27T04:40:11.240602Z",
     "shell.execute_reply.started": "2022-01-27T03:52:00.574656Z"
    },
    "papermill": {
     "duration": 0.048124,
     "end_time": "2022-01-27T04:40:11.241277",
     "exception": false,
     "start_time": "2022-01-27T04:40:11.193153",
     "status": "completed"
    },
    "tags": []
   },
   "outputs": [
    {
     "data": {
      "text/html": [
       "<div>\n",
       "<style scoped>\n",
       "    .dataframe tbody tr th:only-of-type {\n",
       "        vertical-align: middle;\n",
       "    }\n",
       "\n",
       "    .dataframe tbody tr th {\n",
       "        vertical-align: top;\n",
       "    }\n",
       "\n",
       "    .dataframe thead th {\n",
       "        text-align: right;\n",
       "    }\n",
       "</style>\n",
       "<table border=\"1\" class=\"dataframe\">\n",
       "  <thead>\n",
       "    <tr style=\"text-align: right;\">\n",
       "      <th></th>\n",
       "      <th>name</th>\n",
       "      <th>year</th>\n",
       "      <th>quarter</th>\n",
       "      <th>count</th>\n",
       "    </tr>\n",
       "  </thead>\n",
       "  <tbody>\n",
       "    <tr>\n",
       "      <th>0</th>\n",
       "      <td>Ruby</td>\n",
       "      <td>2011</td>\n",
       "      <td>3</td>\n",
       "      <td>632</td>\n",
       "    </tr>\n",
       "    <tr>\n",
       "      <th>1</th>\n",
       "      <td>PHP</td>\n",
       "      <td>2011</td>\n",
       "      <td>3</td>\n",
       "      <td>484</td>\n",
       "    </tr>\n",
       "    <tr>\n",
       "      <th>2</th>\n",
       "      <td>Python</td>\n",
       "      <td>2011</td>\n",
       "      <td>3</td>\n",
       "      <td>423</td>\n",
       "    </tr>\n",
       "    <tr>\n",
       "      <th>3</th>\n",
       "      <td>JavaScript</td>\n",
       "      <td>2011</td>\n",
       "      <td>3</td>\n",
       "      <td>367</td>\n",
       "    </tr>\n",
       "    <tr>\n",
       "      <th>4</th>\n",
       "      <td>Java</td>\n",
       "      <td>2011</td>\n",
       "      <td>3</td>\n",
       "      <td>216</td>\n",
       "    </tr>\n",
       "  </tbody>\n",
       "</table>\n",
       "</div>"
      ],
      "text/plain": [
       "         name  year  quarter  count\n",
       "0        Ruby  2011        3    632\n",
       "1         PHP  2011        3    484\n",
       "2      Python  2011        3    423\n",
       "3  JavaScript  2011        3    367\n",
       "4        Java  2011        3    216"
      ]
     },
     "execution_count": 2,
     "metadata": {},
     "output_type": "execute_result"
    }
   ],
   "source": [
    "df = pd.read_csv('/kaggle/input/github-programming-languages-data/prs.csv')\n",
    "df.head()"
   ]
  },
  {
   "cell_type": "markdown",
   "id": "711f0954",
   "metadata": {
    "papermill": {
     "duration": 0.01359,
     "end_time": "2022-01-27T04:40:11.269335",
     "exception": false,
     "start_time": "2022-01-27T04:40:11.255745",
     "status": "completed"
    },
    "tags": []
   },
   "source": [
    "## Analyze Data Set ##"
   ]
  },
  {
   "cell_type": "code",
   "execution_count": 3,
   "id": "ba7481fe",
   "metadata": {
    "execution": {
     "iopub.execute_input": "2022-01-27T04:40:11.301047Z",
     "iopub.status.busy": "2022-01-27T04:40:11.300324Z",
     "iopub.status.idle": "2022-01-27T04:40:11.323373Z",
     "shell.execute_reply": "2022-01-27T04:40:11.323933Z",
     "shell.execute_reply.started": "2022-01-27T03:52:00.600441Z"
    },
    "papermill": {
     "duration": 0.040879,
     "end_time": "2022-01-27T04:40:11.324102",
     "exception": false,
     "start_time": "2022-01-27T04:40:11.283223",
     "status": "completed"
    },
    "tags": []
   },
   "outputs": [
    {
     "name": "stdout",
     "output_type": "stream",
     "text": [
      "<class 'pandas.core.frame.DataFrame'>\n",
      "RangeIndex: 3462 entries, 0 to 3461\n",
      "Data columns (total 4 columns):\n",
      " #   Column   Non-Null Count  Dtype \n",
      "---  ------   --------------  ----- \n",
      " 0   name     3462 non-null   object\n",
      " 1   year     3462 non-null   int64 \n",
      " 2   quarter  3462 non-null   int64 \n",
      " 3   count    3462 non-null   int64 \n",
      "dtypes: int64(3), object(1)\n",
      "memory usage: 108.3+ KB\n"
     ]
    }
   ],
   "source": [
    "df.info()"
   ]
  },
  {
   "cell_type": "code",
   "execution_count": 4,
   "id": "a25ff0e8",
   "metadata": {
    "execution": {
     "iopub.execute_input": "2022-01-27T04:40:11.371472Z",
     "iopub.status.busy": "2022-01-27T04:40:11.370782Z",
     "iopub.status.idle": "2022-01-27T04:40:11.391331Z",
     "shell.execute_reply": "2022-01-27T04:40:11.390797Z",
     "shell.execute_reply.started": "2022-01-27T03:52:00.614097Z"
    },
    "papermill": {
     "duration": 0.045072,
     "end_time": "2022-01-27T04:40:11.391477",
     "exception": false,
     "start_time": "2022-01-27T04:40:11.346405",
     "status": "completed"
    },
    "tags": []
   },
   "outputs": [
    {
     "data": {
      "text/html": [
       "<div>\n",
       "<style scoped>\n",
       "    .dataframe tbody tr th:only-of-type {\n",
       "        vertical-align: middle;\n",
       "    }\n",
       "\n",
       "    .dataframe tbody tr th {\n",
       "        vertical-align: top;\n",
       "    }\n",
       "\n",
       "    .dataframe thead th {\n",
       "        text-align: right;\n",
       "    }\n",
       "</style>\n",
       "<table border=\"1\" class=\"dataframe\">\n",
       "  <thead>\n",
       "    <tr style=\"text-align: right;\">\n",
       "      <th></th>\n",
       "      <th>year</th>\n",
       "      <th>quarter</th>\n",
       "      <th>count</th>\n",
       "    </tr>\n",
       "  </thead>\n",
       "  <tbody>\n",
       "    <tr>\n",
       "      <th>count</th>\n",
       "      <td>3462.000000</td>\n",
       "      <td>3462.000000</td>\n",
       "      <td>3462.000000</td>\n",
       "    </tr>\n",
       "    <tr>\n",
       "      <th>mean</th>\n",
       "      <td>2017.013576</td>\n",
       "      <td>2.502022</td>\n",
       "      <td>11131.740901</td>\n",
       "    </tr>\n",
       "    <tr>\n",
       "      <th>std</th>\n",
       "      <td>2.552447</td>\n",
       "      <td>1.122835</td>\n",
       "      <td>34686.780996</td>\n",
       "    </tr>\n",
       "    <tr>\n",
       "      <th>min</th>\n",
       "      <td>2011.000000</td>\n",
       "      <td>1.000000</td>\n",
       "      <td>100.000000</td>\n",
       "    </tr>\n",
       "    <tr>\n",
       "      <th>25%</th>\n",
       "      <td>2015.000000</td>\n",
       "      <td>1.000000</td>\n",
       "      <td>230.000000</td>\n",
       "    </tr>\n",
       "    <tr>\n",
       "      <th>50%</th>\n",
       "      <td>2017.000000</td>\n",
       "      <td>2.000000</td>\n",
       "      <td>616.500000</td>\n",
       "    </tr>\n",
       "    <tr>\n",
       "      <th>75%</th>\n",
       "      <td>2019.000000</td>\n",
       "      <td>4.000000</td>\n",
       "      <td>3380.500000</td>\n",
       "    </tr>\n",
       "    <tr>\n",
       "      <th>max</th>\n",
       "      <td>2022.000000</td>\n",
       "      <td>4.000000</td>\n",
       "      <td>397530.000000</td>\n",
       "    </tr>\n",
       "  </tbody>\n",
       "</table>\n",
       "</div>"
      ],
      "text/plain": [
       "              year      quarter          count\n",
       "count  3462.000000  3462.000000    3462.000000\n",
       "mean   2017.013576     2.502022   11131.740901\n",
       "std       2.552447     1.122835   34686.780996\n",
       "min    2011.000000     1.000000     100.000000\n",
       "25%    2015.000000     1.000000     230.000000\n",
       "50%    2017.000000     2.000000     616.500000\n",
       "75%    2019.000000     4.000000    3380.500000\n",
       "max    2022.000000     4.000000  397530.000000"
      ]
     },
     "execution_count": 4,
     "metadata": {},
     "output_type": "execute_result"
    }
   ],
   "source": [
    "df.describe()"
   ]
  },
  {
   "cell_type": "code",
   "execution_count": 5,
   "id": "6403e012",
   "metadata": {
    "execution": {
     "iopub.execute_input": "2022-01-27T04:40:11.439393Z",
     "iopub.status.busy": "2022-01-27T04:40:11.438789Z",
     "iopub.status.idle": "2022-01-27T04:40:11.447802Z",
     "shell.execute_reply": "2022-01-27T04:40:11.448318Z",
     "shell.execute_reply.started": "2022-01-27T03:52:00.642904Z"
    },
    "papermill": {
     "duration": 0.035193,
     "end_time": "2022-01-27T04:40:11.448521",
     "exception": false,
     "start_time": "2022-01-27T04:40:11.413328",
     "status": "completed"
    },
    "tags": []
   },
   "outputs": [
    {
     "name": "stdout",
     "output_type": "stream",
     "text": [
      "There are 187 unique languages in the data set.\n"
     ]
    },
    {
     "data": {
      "text/plain": [
       "array(['Ruby', 'PHP', 'Python', 'JavaScript', 'Java', 'C++', 'C', 'Shell',\n",
       "       'C#', 'Objective-C', 'Scala', 'Erlang', 'HTML', 'Haskell',\n",
       "       'Groovy', 'TypeScript', 'CoffeeScript', 'Go', 'Lua', 'Perl',\n",
       "       'ColdFusion', 'Emacs Lisp', 'CSS', 'Clojure', 'Objective-J',\n",
       "       'Elixir', 'Web Ontology Language', 'Puppet', 'XSLT', 'Vim script',\n",
       "       'nesC', 'Nix', 'VimL', 'Delphi', 'Scheme', 'Jupyter Notebook',\n",
       "       'TSQL', 'Common Lisp', 'Pascal', 'SQF', 'DM', 'Kotlin', 'OCaml',\n",
       "       'Julia', 'Smalltalk', 'PowerShell', 'ActionScript', 'Dart', 'Vala',\n",
       "       'Haxe', 'Swift', 'Raku', 'Rust', 'Makefile', 'TeX', 'R',\n",
       "       'Assembly', 'Mako', 'D', 'Fortran', 'F#', 'Logos', 'PLSQL',\n",
       "       'CMake', 'Apex', 'QML', 'Objective-C++', 'Pan', 'Tcl', 'Liquid',\n",
       "       'SQLPL', 'Racket', 'SQL', 'Vim Snippet',\n",
       "       'Common Workflow Language', 'Eagle', 'Protocol Buffer',\n",
       "       'Standard ML', 'SCSS', 'XQuery', 'Dockerfile',\n",
       "       'GCC Machine Description', 'PLpgSQL', 'Xtend', 'Matlab',\n",
       "       'ApacheConf', 'Arduino', 'YAML', 'Visual Basic', 'Gherkin', 'JSON',\n",
       "       'PureScript', 'ooc', 'MATLAB', 'PostScript', 'ASP', 'Thrift',\n",
       "       'HCL', 'SourcePawn', 'Rich Text Format', 'Processing', 'SaltStack',\n",
       "       'Elm', 'Batchfile', 'Perl 6', 'Smarty', 'Groff', 'Hack', 'CWeb',\n",
       "       'AutoIt', 'Mustache', 'Perl6', 'Cuda', 'GDScript', 'Verilog',\n",
       "       'Jsonnet', 'mIRC Script', 'Crystal', 'BitBake', 'Vue', 'Jinja',\n",
       "       'Roff', 'IDL', 'Mathematica', 'Eiffel', 'OpenEdge ABL', 'LLVM',\n",
       "       'GLSL', 'Markdown', 'Slash', 'FORTRAN', 'API Blueprint',\n",
       "       'RobotFramework', 'WebAssembly', 'Nim', 'Cucumber',\n",
       "       'SystemVerilog', 'Game Maker Language', 'NSIS', 'Nginx',\n",
       "       'LiveScript', 'Rascal', 'Stylus', 'YARA', 'Ceylon', 'Modelica',\n",
       "       'MoonScript', 'Prolog', 'Starlark', 'Zephir', 'SAS', 'GAP',\n",
       "       'Visual Basic .NET', 'DIGITAL Command Language', 'M4', 'VHDL',\n",
       "       'Coq', '1C Enterprise', 'AGS Script', 'Pug', 'ABAP', 'FreeMarker',\n",
       "       'KiCad', 'AutoHotkey', 'Ada', 'Component Pascal', 'OpenSCAD',\n",
       "       'SWIG', 'Uno', 'LabVIEW', 'F*', 'Meson', 'PureBasic', 'Nunjucks',\n",
       "       'COBOL', 'UnrealScript', 'Twig', 'Lean', 'Genshi', 'Blade',\n",
       "       'CodeQL', 'q', 'Pawn', 'Reason', 'POV-Ray SDL', 'BlitzBasic',\n",
       "       'Svelte'], dtype=object)"
      ]
     },
     "execution_count": 5,
     "metadata": {},
     "output_type": "execute_result"
    }
   ],
   "source": [
    "languages = df['name'].unique()\n",
    "print(f'There are {len(languages)} unique languages in the data set.')\n",
    "languages"
   ]
  },
  {
   "cell_type": "markdown",
   "id": "d2a02313",
   "metadata": {
    "papermill": {
     "duration": 0.022093,
     "end_time": "2022-01-27T04:40:11.493064",
     "exception": false,
     "start_time": "2022-01-27T04:40:11.470971",
     "status": "completed"
    },
    "tags": []
   },
   "source": [
    "## "
   ]
  },
  {
   "cell_type": "markdown",
   "id": "a076d529",
   "metadata": {
    "papermill": {
     "duration": 0.021893,
     "end_time": "2022-01-27T04:40:11.537540",
     "exception": false,
     "start_time": "2022-01-27T04:40:11.515647",
     "status": "completed"
    },
    "tags": []
   },
   "source": [
    "## Group data based on Programming Language name and year ##"
   ]
  },
  {
   "cell_type": "code",
   "execution_count": 6,
   "id": "f78d8c15",
   "metadata": {
    "execution": {
     "iopub.execute_input": "2022-01-27T04:40:11.588997Z",
     "iopub.status.busy": "2022-01-27T04:40:11.588322Z",
     "iopub.status.idle": "2022-01-27T04:40:11.603248Z",
     "shell.execute_reply": "2022-01-27T04:40:11.602697Z",
     "shell.execute_reply.started": "2022-01-27T03:58:18.276363Z"
    },
    "papermill": {
     "duration": 0.04373,
     "end_time": "2022-01-27T04:40:11.603385",
     "exception": false,
     "start_time": "2022-01-27T04:40:11.559655",
     "status": "completed"
    },
    "tags": []
   },
   "outputs": [
    {
     "data": {
      "text/html": [
       "<div>\n",
       "<style scoped>\n",
       "    .dataframe tbody tr th:only-of-type {\n",
       "        vertical-align: middle;\n",
       "    }\n",
       "\n",
       "    .dataframe tbody tr th {\n",
       "        vertical-align: top;\n",
       "    }\n",
       "\n",
       "    .dataframe thead th {\n",
       "        text-align: right;\n",
       "    }\n",
       "</style>\n",
       "<table border=\"1\" class=\"dataframe\">\n",
       "  <thead>\n",
       "    <tr style=\"text-align: right;\">\n",
       "      <th></th>\n",
       "      <th>name</th>\n",
       "      <th>year</th>\n",
       "      <th>count</th>\n",
       "    </tr>\n",
       "  </thead>\n",
       "  <tbody>\n",
       "    <tr>\n",
       "      <th>415</th>\n",
       "      <td>JavaScript</td>\n",
       "      <td>2016</td>\n",
       "      <td>1479882</td>\n",
       "    </tr>\n",
       "    <tr>\n",
       "      <th>416</th>\n",
       "      <td>JavaScript</td>\n",
       "      <td>2017</td>\n",
       "      <td>1477140</td>\n",
       "    </tr>\n",
       "    <tr>\n",
       "      <th>715</th>\n",
       "      <td>Python</td>\n",
       "      <td>2017</td>\n",
       "      <td>970465</td>\n",
       "    </tr>\n",
       "    <tr>\n",
       "      <th>414</th>\n",
       "      <td>JavaScript</td>\n",
       "      <td>2015</td>\n",
       "      <td>841002</td>\n",
       "    </tr>\n",
       "    <tr>\n",
       "      <th>417</th>\n",
       "      <td>JavaScript</td>\n",
       "      <td>2018</td>\n",
       "      <td>826691</td>\n",
       "    </tr>\n",
       "    <tr>\n",
       "      <th>419</th>\n",
       "      <td>JavaScript</td>\n",
       "      <td>2020</td>\n",
       "      <td>817650</td>\n",
       "    </tr>\n",
       "    <tr>\n",
       "      <th>718</th>\n",
       "      <td>Python</td>\n",
       "      <td>2020</td>\n",
       "      <td>809805</td>\n",
       "    </tr>\n",
       "    <tr>\n",
       "      <th>714</th>\n",
       "      <td>Python</td>\n",
       "      <td>2016</td>\n",
       "      <td>798616</td>\n",
       "    </tr>\n",
       "    <tr>\n",
       "      <th>418</th>\n",
       "      <td>JavaScript</td>\n",
       "      <td>2019</td>\n",
       "      <td>787866</td>\n",
       "    </tr>\n",
       "    <tr>\n",
       "      <th>717</th>\n",
       "      <td>Python</td>\n",
       "      <td>2019</td>\n",
       "      <td>770913</td>\n",
       "    </tr>\n",
       "    <tr>\n",
       "      <th>716</th>\n",
       "      <td>Python</td>\n",
       "      <td>2018</td>\n",
       "      <td>740172</td>\n",
       "    </tr>\n",
       "    <tr>\n",
       "      <th>719</th>\n",
       "      <td>Python</td>\n",
       "      <td>2021</td>\n",
       "      <td>676289</td>\n",
       "    </tr>\n",
       "    <tr>\n",
       "      <th>420</th>\n",
       "      <td>JavaScript</td>\n",
       "      <td>2021</td>\n",
       "      <td>631030</td>\n",
       "    </tr>\n",
       "    <tr>\n",
       "      <th>404</th>\n",
       "      <td>Java</td>\n",
       "      <td>2017</td>\n",
       "      <td>600805</td>\n",
       "    </tr>\n",
       "    <tr>\n",
       "      <th>713</th>\n",
       "      <td>Python</td>\n",
       "      <td>2015</td>\n",
       "      <td>585192</td>\n",
       "    </tr>\n",
       "    <tr>\n",
       "      <th>403</th>\n",
       "      <td>Java</td>\n",
       "      <td>2016</td>\n",
       "      <td>565203</td>\n",
       "    </tr>\n",
       "    <tr>\n",
       "      <th>407</th>\n",
       "      <td>Java</td>\n",
       "      <td>2020</td>\n",
       "      <td>549745</td>\n",
       "    </tr>\n",
       "    <tr>\n",
       "      <th>408</th>\n",
       "      <td>Java</td>\n",
       "      <td>2021</td>\n",
       "      <td>466837</td>\n",
       "    </tr>\n",
       "    <tr>\n",
       "      <th>774</th>\n",
       "      <td>Ruby</td>\n",
       "      <td>2016</td>\n",
       "      <td>446059</td>\n",
       "    </tr>\n",
       "    <tr>\n",
       "      <th>406</th>\n",
       "      <td>Java</td>\n",
       "      <td>2019</td>\n",
       "      <td>435640</td>\n",
       "    </tr>\n",
       "    <tr>\n",
       "      <th>333</th>\n",
       "      <td>Go</td>\n",
       "      <td>2020</td>\n",
       "      <td>419034</td>\n",
       "    </tr>\n",
       "    <tr>\n",
       "      <th>610</th>\n",
       "      <td>PHP</td>\n",
       "      <td>2017</td>\n",
       "      <td>417693</td>\n",
       "    </tr>\n",
       "    <tr>\n",
       "      <th>773</th>\n",
       "      <td>Ruby</td>\n",
       "      <td>2015</td>\n",
       "      <td>417430</td>\n",
       "    </tr>\n",
       "    <tr>\n",
       "      <th>609</th>\n",
       "      <td>PHP</td>\n",
       "      <td>2016</td>\n",
       "      <td>414886</td>\n",
       "    </tr>\n",
       "    <tr>\n",
       "      <th>775</th>\n",
       "      <td>Ruby</td>\n",
       "      <td>2017</td>\n",
       "      <td>409784</td>\n",
       "    </tr>\n",
       "  </tbody>\n",
       "</table>\n",
       "</div>"
      ],
      "text/plain": [
       "           name  year    count\n",
       "415  JavaScript  2016  1479882\n",
       "416  JavaScript  2017  1477140\n",
       "715      Python  2017   970465\n",
       "414  JavaScript  2015   841002\n",
       "417  JavaScript  2018   826691\n",
       "419  JavaScript  2020   817650\n",
       "718      Python  2020   809805\n",
       "714      Python  2016   798616\n",
       "418  JavaScript  2019   787866\n",
       "717      Python  2019   770913\n",
       "716      Python  2018   740172\n",
       "719      Python  2021   676289\n",
       "420  JavaScript  2021   631030\n",
       "404        Java  2017   600805\n",
       "713      Python  2015   585192\n",
       "403        Java  2016   565203\n",
       "407        Java  2020   549745\n",
       "408        Java  2021   466837\n",
       "774        Ruby  2016   446059\n",
       "406        Java  2019   435640\n",
       "333          Go  2020   419034\n",
       "610         PHP  2017   417693\n",
       "773        Ruby  2015   417430\n",
       "609         PHP  2016   414886\n",
       "775        Ruby  2017   409784"
      ]
     },
     "execution_count": 6,
     "metadata": {},
     "output_type": "execute_result"
    }
   ],
   "source": [
    "name_and_year = df.groupby(['name','year'])\n",
    "sum_counts = name_and_year['count'].sum().reset_index().sort_values('count', ascending=False)\n",
    "sum_counts.head(25)"
   ]
  },
  {
   "cell_type": "markdown",
   "id": "6cfd9784",
   "metadata": {
    "papermill": {
     "duration": 0.023078,
     "end_time": "2022-01-27T04:40:11.650229",
     "exception": false,
     "start_time": "2022-01-27T04:40:11.627151",
     "status": "completed"
    },
    "tags": []
   },
   "source": [
    "## Make some assumptions and determine how to find the truth in the data ##\n",
    "\n",
    "We can see in the chart above that JavaScript is consistently the most used programming language for Pull Requests on GitHub as far back as 2016. The close runner ups are Python and Java. Interestingly, we don't have any contenders from the years before JavaScript and Python became popularized among developers. I believe this might be due to the fact that as time passed overall Pull Requests increased significantly. If we look farther back in time we might see a different set of languages that were popular before JavaScript and Python reigned supreme. I can confirm these assumptions and get more info by visualizing the following data\n",
    "\n",
    "- Top 8 Programming Languages by # of GitHub Pull Requests\n",
    "- Top 8 Programming Languages by # of GitHub Pull Requests before 2013\n",
    "- Number of Pull Requests per year"
   ]
  },
  {
   "cell_type": "markdown",
   "id": "73273eb7",
   "metadata": {
    "papermill": {
     "duration": 0.023842,
     "end_time": "2022-01-27T04:40:11.698045",
     "exception": false,
     "start_time": "2022-01-27T04:40:11.674203",
     "status": "completed"
    },
    "tags": []
   },
   "source": [
    "## Import Visualization Packages ##"
   ]
  },
  {
   "cell_type": "code",
   "execution_count": 7,
   "id": "4e24023f",
   "metadata": {
    "execution": {
     "iopub.execute_input": "2022-01-27T04:40:11.750825Z",
     "iopub.status.busy": "2022-01-27T04:40:11.750030Z",
     "iopub.status.idle": "2022-01-27T04:40:13.159717Z",
     "shell.execute_reply": "2022-01-27T04:40:13.158700Z",
     "shell.execute_reply.started": "2022-01-27T03:52:00.675740Z"
    },
    "papermill": {
     "duration": 1.438401,
     "end_time": "2022-01-27T04:40:13.159839",
     "exception": false,
     "start_time": "2022-01-27T04:40:11.721438",
     "status": "completed"
    },
    "tags": []
   },
   "outputs": [],
   "source": [
    "import matplotlib.pyplot as plt\n",
    "from sklearn.linear_model import LinearRegression\n",
    "import seaborn as sns\n",
    "sns.set()"
   ]
  },
  {
   "cell_type": "markdown",
   "id": "f18a49cc",
   "metadata": {
    "papermill": {
     "duration": 0.015684,
     "end_time": "2022-01-27T04:40:13.191094",
     "exception": false,
     "start_time": "2022-01-27T04:40:13.175410",
     "status": "completed"
    },
    "tags": []
   },
   "source": [
    "## Plot the data ##\n",
    "### Top 8 Programming Languages by # of GitHub Pull Requests ###"
   ]
  },
  {
   "cell_type": "code",
   "execution_count": 8,
   "id": "a3c2d1a7",
   "metadata": {
    "execution": {
     "iopub.execute_input": "2022-01-27T04:40:13.238842Z",
     "iopub.status.busy": "2022-01-27T04:40:13.238278Z",
     "iopub.status.idle": "2022-01-27T04:40:13.658169Z",
     "shell.execute_reply": "2022-01-27T04:40:13.657720Z",
     "shell.execute_reply.started": "2022-01-27T04:03:21.461803Z"
    },
    "papermill": {
     "duration": 0.45135,
     "end_time": "2022-01-27T04:40:13.658288",
     "exception": false,
     "start_time": "2022-01-27T04:40:13.206938",
     "status": "completed"
    },
    "tags": []
   },
   "outputs": [
    {
     "data": {
      "text/plain": [
       "<AxesSubplot:xlabel='year', ylabel='count'>"
      ]
     },
     "execution_count": 8,
     "metadata": {},
     "output_type": "execute_result"
    },
    {
     "data": {
      "image/png": "[encoded data removed]",
      "text/plain": [
       "<Figure size 432x288 with 1 Axes>"
      ]
     },
     "metadata": {},
     "output_type": "display_data"
    }
   ],
   "source": [
    "sns.lineplot(data=sum_counts.head(50), x='year',y='count',hue='name')"
   ]
  },
  {
   "cell_type": "markdown",
   "id": "e2a17d53",
   "metadata": {
    "papermill": {
     "duration": 0.016302,
     "end_time": "2022-01-27T04:40:13.691409",
     "exception": false,
     "start_time": "2022-01-27T04:40:13.675107",
     "status": "completed"
    },
    "tags": []
   },
   "source": [
    "## Clean up the plot ##\n",
    "### Top 8 Programming Languages by # of GitHub Pull Requests ### "
   ]
  },
  {
   "cell_type": "code",
   "execution_count": 9,
   "id": "009987ab",
   "metadata": {
    "execution": {
     "iopub.execute_input": "2022-01-27T04:40:13.754581Z",
     "iopub.status.busy": "2022-01-27T04:40:13.726838Z",
     "iopub.status.idle": "2022-01-27T04:40:14.116349Z",
     "shell.execute_reply": "2022-01-27T04:40:14.116891Z",
     "shell.execute_reply.started": "2022-01-27T03:55:41.883732Z"
    },
    "papermill": {
     "duration": 0.409049,
     "end_time": "2022-01-27T04:40:14.117033",
     "exception": false,
     "start_time": "2022-01-27T04:40:13.707984",
     "status": "completed"
    },
    "tags": []
   },
   "outputs": [
    {
     "data": {
      "text/plain": [
       "<matplotlib.legend.Legend at 0x7fbc1346cc10>"
      ]
     },
     "execution_count": 9,
     "metadata": {},
     "output_type": "execute_result"
    },
    {
     "data": {
      "image/png": "[encoded data removed]",
      "text/plain": [
       "<Figure size 432x288 with 1 Axes>"
      ]
     },
     "metadata": {},
     "output_type": "display_data"
    }
   ],
   "source": [
    "plot = sns.lineplot(data=sum_counts.head(50), x='year',y='count',hue='name')\n",
    "\n",
    "# Set labels of x and y axis\n",
    "plot.set_xlabel('Year',fontsize=20)\n",
    "plot.set_ylabel('Pull Requests (million)',fontsize=15)\n",
    "\n",
    "# Put the legend out of the figure\n",
    "# Reference - https://stackoverflow.com/a/34579525\n",
    "plt.legend(bbox_to_anchor=(1.05, 1), loc=2, borderaxespad=0.,shadow=True,title='Programming Language')\n"
   ]
  },
  {
   "cell_type": "markdown",
   "id": "7ffafb7e",
   "metadata": {
    "papermill": {
     "duration": 0.018465,
     "end_time": "2022-01-27T04:40:14.155066",
     "exception": false,
     "start_time": "2022-01-27T04:40:14.136601",
     "status": "completed"
    },
    "tags": []
   },
   "source": [
    "## Plot the data ##\n",
    "### Top 8 Programming Languages by # of GitHub Pull Requests before 2013 ###"
   ]
  },
  {
   "cell_type": "code",
   "execution_count": 10,
   "id": "fec81ba3",
   "metadata": {
    "execution": {
     "iopub.execute_input": "2022-01-27T04:40:14.195297Z",
     "iopub.status.busy": "2022-01-27T04:40:14.194619Z",
     "iopub.status.idle": "2022-01-27T04:40:14.587640Z",
     "shell.execute_reply": "2022-01-27T04:40:14.587165Z",
     "shell.execute_reply.started": "2022-01-27T04:16:38.554181Z"
    },
    "papermill": {
     "duration": 0.413808,
     "end_time": "2022-01-27T04:40:14.587761",
     "exception": false,
     "start_time": "2022-01-27T04:40:14.173953",
     "status": "completed"
    },
    "tags": []
   },
   "outputs": [
    {
     "data": {
      "text/plain": [
       "<matplotlib.legend.Legend at 0x7fbc11274790>"
      ]
     },
     "execution_count": 10,
     "metadata": {},
     "output_type": "execute_result"
    },
    {
     "data": {
      "image/png": "[encoded data removed]",
      "text/plain": [
       "<Figure size 432x288 with 1 Axes>"
      ]
     },
     "metadata": {},
     "output_type": "display_data"
    }
   ],
   "source": [
    "# We'll handle styling in the same code snippet this time\n",
    "before_13 = sum_counts.query('year <= 2013').head(14)\n",
    "plot_before_13 = sns.lineplot(data=before_13, x='year',y='count',hue='name')\n",
    "\n",
    "# Set labels of x and y axis\n",
    "plot_before_13.set_xlabel('Year',fontsize=20)\n",
    "plot_before_13.set_ylabel('Pull Requests (million)',fontsize=15)\n",
    "\n",
    "# Put the legend out of the figure\n",
    "plt.legend(bbox_to_anchor=(1.05, 1), loc=2, borderaxespad=0.,shadow=True,title='Programming Language')"
   ]
  },
  {
   "cell_type": "markdown",
   "id": "88087020",
   "metadata": {
    "papermill": {
     "duration": 0.019286,
     "end_time": "2022-01-27T04:40:14.626892",
     "exception": false,
     "start_time": "2022-01-27T04:40:14.607606",
     "status": "completed"
    },
    "tags": []
   },
   "source": [
    "## Gather and Plot the data ##\n",
    "### Pull Requests by year ###"
   ]
  },
  {
   "cell_type": "code",
   "execution_count": 11,
   "id": "2a71f8ac",
   "metadata": {
    "execution": {
     "iopub.execute_input": "2022-01-27T04:40:14.673707Z",
     "iopub.status.busy": "2022-01-27T04:40:14.673165Z",
     "iopub.status.idle": "2022-01-27T04:40:14.682700Z",
     "shell.execute_reply": "2022-01-27T04:40:14.683126Z",
     "shell.execute_reply.started": "2022-01-27T04:19:46.223094Z"
    },
    "papermill": {
     "duration": 0.036754,
     "end_time": "2022-01-27T04:40:14.683289",
     "exception": false,
     "start_time": "2022-01-27T04:40:14.646535",
     "status": "completed"
    },
    "tags": []
   },
   "outputs": [
    {
     "data": {
      "text/html": [
       "<div>\n",
       "<style scoped>\n",
       "    .dataframe tbody tr th:only-of-type {\n",
       "        vertical-align: middle;\n",
       "    }\n",
       "\n",
       "    .dataframe tbody tr th {\n",
       "        vertical-align: top;\n",
       "    }\n",
       "\n",
       "    .dataframe thead th {\n",
       "        text-align: right;\n",
       "    }\n",
       "</style>\n",
       "<table border=\"1\" class=\"dataframe\">\n",
       "  <thead>\n",
       "    <tr style=\"text-align: right;\">\n",
       "      <th></th>\n",
       "      <th>year</th>\n",
       "      <th>count</th>\n",
       "    </tr>\n",
       "  </thead>\n",
       "  <tbody>\n",
       "    <tr>\n",
       "      <th>6</th>\n",
       "      <td>2017</td>\n",
       "      <td>6636621</td>\n",
       "    </tr>\n",
       "    <tr>\n",
       "      <th>5</th>\n",
       "      <td>2016</td>\n",
       "      <td>5987402</td>\n",
       "    </tr>\n",
       "    <tr>\n",
       "      <th>9</th>\n",
       "      <td>2020</td>\n",
       "      <td>5055278</td>\n",
       "    </tr>\n",
       "    <tr>\n",
       "      <th>8</th>\n",
       "      <td>2019</td>\n",
       "      <td>4637549</td>\n",
       "    </tr>\n",
       "    <tr>\n",
       "      <th>7</th>\n",
       "      <td>2018</td>\n",
       "      <td>4511395</td>\n",
       "    </tr>\n",
       "    <tr>\n",
       "      <th>10</th>\n",
       "      <td>2021</td>\n",
       "      <td>4144760</td>\n",
       "    </tr>\n",
       "    <tr>\n",
       "      <th>4</th>\n",
       "      <td>2015</td>\n",
       "      <td>4112878</td>\n",
       "    </tr>\n",
       "    <tr>\n",
       "      <th>3</th>\n",
       "      <td>2014</td>\n",
       "      <td>2048373</td>\n",
       "    </tr>\n",
       "    <tr>\n",
       "      <th>2</th>\n",
       "      <td>2013</td>\n",
       "      <td>952269</td>\n",
       "    </tr>\n",
       "    <tr>\n",
       "      <th>1</th>\n",
       "      <td>2012</td>\n",
       "      <td>430350</td>\n",
       "    </tr>\n",
       "  </tbody>\n",
       "</table>\n",
       "</div>"
      ],
      "text/plain": [
       "    year    count\n",
       "6   2017  6636621\n",
       "5   2016  5987402\n",
       "9   2020  5055278\n",
       "8   2019  4637549\n",
       "7   2018  4511395\n",
       "10  2021  4144760\n",
       "4   2015  4112878\n",
       "3   2014  2048373\n",
       "2   2013   952269\n",
       "1   2012   430350"
      ]
     },
     "execution_count": 11,
     "metadata": {},
     "output_type": "execute_result"
    }
   ],
   "source": [
    "pr_by_year = df.groupby(['year'])['count'].sum().reset_index().sort_values('count', ascending=False)\n",
    "pr_by_year.head(10)"
   ]
  },
  {
   "cell_type": "markdown",
   "id": "006eb0b3",
   "metadata": {
    "papermill": {
     "duration": 0.019933,
     "end_time": "2022-01-27T04:40:14.723749",
     "exception": false,
     "start_time": "2022-01-27T04:40:14.703816",
     "status": "completed"
    },
    "tags": []
   },
   "source": [
    "It looks like our hypothesis might be wrong. Let's plot it!"
   ]
  },
  {
   "cell_type": "code",
   "execution_count": 12,
   "id": "59861057",
   "metadata": {
    "execution": {
     "iopub.execute_input": "2022-01-27T04:40:14.767429Z",
     "iopub.status.busy": "2022-01-27T04:40:14.766911Z",
     "iopub.status.idle": "2022-01-27T04:40:15.040916Z",
     "shell.execute_reply": "2022-01-27T04:40:15.041290Z",
     "shell.execute_reply.started": "2022-01-27T04:29:38.773244Z"
    },
    "papermill": {
     "duration": 0.297911,
     "end_time": "2022-01-27T04:40:15.041469",
     "exception": false,
     "start_time": "2022-01-27T04:40:14.743558",
     "status": "completed"
    },
    "tags": []
   },
   "outputs": [
    {
     "data": {
      "text/plain": [
       "Text(0.5, 0, 'Year')"
      ]
     },
     "execution_count": 12,
     "metadata": {},
     "output_type": "execute_result"
    },
    {
     "data": {
      "image/png": "[encoded data removed]",
      "text/plain": [
       "<Figure size 432x288 with 1 Axes>"
      ]
     },
     "metadata": {},
     "output_type": "display_data"
    }
   ],
   "source": [
    "# Excluded 2011 and 2022 due to lack of data\n",
    "plot_annual_pr = sns.barplot(data=pr_by_year.query('year < 2022 & year > 2011'),x='year',y='count')\n",
    "plot_annual_pr.set_ylabel('Pull Requests (100K)')\n",
    "plot_annual_pr.set_xlabel('Year')"
   ]
  },
  {
   "cell_type": "markdown",
   "id": "6904857d",
   "metadata": {
    "papermill": {
     "duration": 0.020648,
     "end_time": "2022-01-27T04:40:15.083287",
     "exception": false,
     "start_time": "2022-01-27T04:40:15.062639",
     "status": "completed"
    },
    "tags": []
   },
   "source": [
    "## Conclusion ##\n",
    "We found that Ruby was indeed more popular than Python and JavaScript up until about mid 2012.\n",
    "Our hypothesis about pull requests continually increasing over time was wrong. There seems to be a peak in 2016 & 2018 and a sudden drop in 2018 that hasn't quite picked back up yet. \n",
    "\n",
    "### The most important insight gained ###\n",
    "The increase in Pull Requests from 2019 to 2020 is clearly a result of [Joe Biden telling Coal Miners that they should learn how to code](https://www.youtube.com/watch?v=VDRK0MyuuIM) "
   ]
  }
 ],
 "metadata": {
  "kernelspec": {
   "display_name": "Python 3",
   "language": "python",
   "name": "python3"
  },
  "language_info": {
   "codemirror_mode": {
    "name": "ipython",
    "version": 3
   },
   "file_extension": ".py",
   "mimetype": "text/x-python",
   "name": "python",
   "nbconvert_exporter": "python",
   "pygments_lexer": "ipython3",
   "version": "3.7.12"
  },
  "papermill": {
   "default_parameters": {},
   "duration": 13.614058,
   "end_time": "2022-01-27T04:40:15.917147",
   "environment_variables": {},
   "exception": null,
   "input_path": "__notebook__.ipynb",
   "output_path": "__notebook__.ipynb",
   "parameters": {},
   "start_time": "2022-01-27T04:40:02.303089",
   "version": "2.3.3"
  }
 },
 "nbformat": 4,
 "nbformat_minor": 5
}
