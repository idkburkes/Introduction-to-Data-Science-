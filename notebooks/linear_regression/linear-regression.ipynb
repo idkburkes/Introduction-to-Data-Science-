{
 "cells": [
  {
   "cell_type": "code",
   "execution_count": 1,
   "id": "596149b5",
   "metadata": {
    "_cell_guid": "b1076dfc-b9ad-4769-8c92-a6c4dae69d19",
    "_uuid": "8f2839f25d086af736a60e9eeb907d3b93b6e0e5",
    "execution": {
     "iopub.execute_input": "2022-01-23T00:18:55.422635Z",
     "iopub.status.busy": "2022-01-23T00:18:55.422017Z",
     "iopub.status.idle": "2022-01-23T00:18:56.683356Z",
     "shell.execute_reply": "2022-01-23T00:18:56.683888Z",
     "shell.execute_reply.started": "2022-01-23T00:17:56.624084Z"
    },
    "papermill": {
     "duration": 1.281955,
     "end_time": "2022-01-23T00:18:56.684217",
     "exception": false,
     "start_time": "2022-01-23T00:18:55.402262",
     "status": "completed"
    },
    "tags": []
   },
   "outputs": [
    {
     "name": "stdout",
     "output_type": "stream",
     "text": [
      "/kaggle/input/college-completion/cc_institution_details.csv\n"
     ]
    }
   ],
   "source": [
    "# This Python 3 environment comes with many helpful analytics libraries installed\n",
    "# It is defined by the kaggle/python Docker image: https://github.com/kaggle/docker-python\n",
    "# For example, here's several helpful packages to load\n",
    "\n",
    "import numpy as np # linear algebra\n",
    "import pandas as pd # data processing, CSV file I/O (e.g. pd.read_csv)\n",
    "import matplotlib.pyplot as plt\n",
    "from sklearn.linear_model import LinearRegression\n",
    "from sklearn.model_selection import train_test_split\n",
    "\n",
    "# Input data files are available in the read-only \"../input/\" directory\n",
    "# For example, running this (by clicking run or pressing Shift+Enter) will list all files under the input directory\n",
    "\n",
    "import os\n",
    "for dirname, _, filenames in os.walk('/kaggle/input'):\n",
    "    for filename in filenames:\n",
    "        print(os.path.join(dirname, filename))\n",
    "\n",
    "# You can write up to 20GB to the current directory (/kaggle/working/) that gets preserved as output when you create a version using \"Save & Run All\" \n",
    "# You can also write temporary files to /kaggle/temp/, but they won't be saved outside of the current session"
   ]
  },
  {
   "cell_type": "markdown",
   "id": "103b1696",
   "metadata": {
    "papermill": {
     "duration": 0.009647,
     "end_time": "2022-01-23T00:18:56.705632",
     "exception": false,
     "start_time": "2022-01-23T00:18:56.695985",
     "status": "completed"
    },
    "tags": []
   },
   "source": [
    "# Exploratory Analysis with Linear Regressions #\n",
    "Objective: Examine the relationship between median SAT score and the rate of Undergraduate Degree completion at universities across the United States "
   ]
  },
  {
   "cell_type": "markdown",
   "id": "9ea98264",
   "metadata": {
    "papermill": {
     "duration": 0.011018,
     "end_time": "2022-01-23T00:18:56.729531",
     "exception": false,
     "start_time": "2022-01-23T00:18:56.718513",
     "status": "completed"
    },
    "tags": []
   },
   "source": [
    "### Load .csv into DataFrame ###"
   ]
  },
  {
   "cell_type": "code",
   "execution_count": 2,
   "id": "df7da220",
   "metadata": {
    "execution": {
     "iopub.execute_input": "2022-01-23T00:18:56.753852Z",
     "iopub.status.busy": "2022-01-23T00:18:56.752905Z",
     "iopub.status.idle": "2022-01-23T00:18:56.872378Z",
     "shell.execute_reply": "2022-01-23T00:18:56.871902Z",
     "shell.execute_reply.started": "2022-01-23T00:17:56.638987Z"
    },
    "papermill": {
     "duration": 0.133456,
     "end_time": "2022-01-23T00:18:56.872520",
     "exception": false,
     "start_time": "2022-01-23T00:18:56.739064",
     "status": "completed"
    },
    "tags": []
   },
   "outputs": [
    {
     "data": {
      "text/html": [
       "<div>\n",
       "<style scoped>\n",
       "    .dataframe tbody tr th:only-of-type {\n",
       "        vertical-align: middle;\n",
       "    }\n",
       "\n",
       "    .dataframe tbody tr th {\n",
       "        vertical-align: top;\n",
       "    }\n",
       "\n",
       "    .dataframe thead th {\n",
       "        text-align: right;\n",
       "    }\n",
       "</style>\n",
       "<table border=\"1\" class=\"dataframe\">\n",
       "  <thead>\n",
       "    <tr style=\"text-align: right;\">\n",
       "      <th></th>\n",
       "      <th>chronname</th>\n",
       "      <th>med_sat_value</th>\n",
       "      <th>grad_100_value</th>\n",
       "    </tr>\n",
       "  </thead>\n",
       "  <tbody>\n",
       "    <tr>\n",
       "      <th>0</th>\n",
       "      <td>Alabama A&amp;M University</td>\n",
       "      <td>823.0</td>\n",
       "      <td>10.0</td>\n",
       "    </tr>\n",
       "    <tr>\n",
       "      <th>1</th>\n",
       "      <td>University of Alabama at Birmingham</td>\n",
       "      <td>1146.0</td>\n",
       "      <td>29.4</td>\n",
       "    </tr>\n",
       "    <tr>\n",
       "      <th>3</th>\n",
       "      <td>University of Alabama at Huntsville</td>\n",
       "      <td>1180.0</td>\n",
       "      <td>16.5</td>\n",
       "    </tr>\n",
       "    <tr>\n",
       "      <th>4</th>\n",
       "      <td>Alabama State University</td>\n",
       "      <td>830.0</td>\n",
       "      <td>8.8</td>\n",
       "    </tr>\n",
       "    <tr>\n",
       "      <th>5</th>\n",
       "      <td>University of Alabama at Tuscaloosa</td>\n",
       "      <td>1171.0</td>\n",
       "      <td>42.7</td>\n",
       "    </tr>\n",
       "  </tbody>\n",
       "</table>\n",
       "</div>"
      ],
      "text/plain": [
       "                             chronname  med_sat_value  grad_100_value\n",
       "0               Alabama A&M University          823.0            10.0\n",
       "1  University of Alabama at Birmingham         1146.0            29.4\n",
       "3  University of Alabama at Huntsville         1180.0            16.5\n",
       "4             Alabama State University          830.0             8.8\n",
       "5  University of Alabama at Tuscaloosa         1171.0            42.7"
      ]
     },
     "execution_count": 2,
     "metadata": {},
     "output_type": "execute_result"
    }
   ],
   "source": [
    "# Read csv\n",
    "df = pd.read_csv('/kaggle/input/college-completion/cc_institution_details.csv',encoding = 'unicode_escape')\n",
    "\n",
    "# Drop rows with NaN values in these two columns\n",
    "# Reference - https://pandas.pydata.org/docs/reference/api/pandas.DataFrame.dropna.html\n",
    "df.dropna(subset=['med_sat_value','grad_100_value'],inplace=True)\n",
    "\n",
    "df[['chronname','med_sat_value','grad_100_value']].head(5)\n"
   ]
  },
  {
   "cell_type": "markdown",
   "id": "92165ee7",
   "metadata": {
    "papermill": {
     "duration": 0.009005,
     "end_time": "2022-01-23T00:18:56.892364",
     "exception": false,
     "start_time": "2022-01-23T00:18:56.883359",
     "status": "completed"
    },
    "tags": []
   },
   "source": [
    "DataFrame description and info "
   ]
  },
  {
   "cell_type": "code",
   "execution_count": 3,
   "id": "a65f1945",
   "metadata": {
    "execution": {
     "iopub.execute_input": "2022-01-23T00:18:56.924607Z",
     "iopub.status.busy": "2022-01-23T00:18:56.923928Z",
     "iopub.status.idle": "2022-01-23T00:18:57.034784Z",
     "shell.execute_reply": "2022-01-23T00:18:57.035282Z",
     "shell.execute_reply.started": "2022-01-23T00:17:56.722276Z"
    },
    "papermill": {
     "duration": 0.13377,
     "end_time": "2022-01-23T00:18:57.035459",
     "exception": false,
     "start_time": "2022-01-23T00:18:56.901689",
     "status": "completed"
    },
    "tags": []
   },
   "outputs": [
    {
     "data": {
      "text/html": [
       "<div>\n",
       "<style scoped>\n",
       "    .dataframe tbody tr th:only-of-type {\n",
       "        vertical-align: middle;\n",
       "    }\n",
       "\n",
       "    .dataframe tbody tr th {\n",
       "        vertical-align: top;\n",
       "    }\n",
       "\n",
       "    .dataframe thead th {\n",
       "        text-align: right;\n",
       "    }\n",
       "</style>\n",
       "<table border=\"1\" class=\"dataframe\">\n",
       "  <thead>\n",
       "    <tr style=\"text-align: right;\">\n",
       "      <th></th>\n",
       "      <th>unitid</th>\n",
       "      <th>long_x</th>\n",
       "      <th>lat_y</th>\n",
       "      <th>student_count</th>\n",
       "      <th>awards_per_value</th>\n",
       "      <th>awards_per_state_value</th>\n",
       "      <th>awards_per_natl_value</th>\n",
       "      <th>exp_award_value</th>\n",
       "      <th>exp_award_state_value</th>\n",
       "      <th>exp_award_natl_value</th>\n",
       "      <th>...</th>\n",
       "      <th>vsa_grad_elsewhere_after4_transfer</th>\n",
       "      <th>vsa_enroll_after4_transfer</th>\n",
       "      <th>vsa_enroll_elsewhere_after4_transfer</th>\n",
       "      <th>vsa_grad_after6_transfer</th>\n",
       "      <th>vsa_grad_elsewhere_after6_transfer</th>\n",
       "      <th>vsa_enroll_after6_transfer</th>\n",
       "      <th>vsa_enroll_elsewhere_after6_transfer</th>\n",
       "      <th>state_sector_ct</th>\n",
       "      <th>carnegie_ct</th>\n",
       "      <th>cohort_size</th>\n",
       "    </tr>\n",
       "  </thead>\n",
       "  <tbody>\n",
       "    <tr>\n",
       "      <th>count</th>\n",
       "      <td>1319.000000</td>\n",
       "      <td>1319.000000</td>\n",
       "      <td>1319.000000</td>\n",
       "      <td>1319.000000</td>\n",
       "      <td>1319.000000</td>\n",
       "      <td>1319.000000</td>\n",
       "      <td>1319.000000</td>\n",
       "      <td>1319.000000</td>\n",
       "      <td>1319.000000</td>\n",
       "      <td>1319.000000</td>\n",
       "      <td>...</td>\n",
       "      <td>244.000000</td>\n",
       "      <td>244.000000</td>\n",
       "      <td>244.000000</td>\n",
       "      <td>244.000000</td>\n",
       "      <td>244.000000</td>\n",
       "      <td>244.000000</td>\n",
       "      <td>244.000000</td>\n",
       "      <td>1319.000000</td>\n",
       "      <td>1319.000000</td>\n",
       "      <td>1319.000000</td>\n",
       "    </tr>\n",
       "    <tr>\n",
       "      <th>mean</th>\n",
       "      <td>184418.935557</td>\n",
       "      <td>-88.168245</td>\n",
       "      <td>38.586454</td>\n",
       "      <td>5757.220622</td>\n",
       "      <td>21.545034</td>\n",
       "      <td>21.987870</td>\n",
       "      <td>22.102578</td>\n",
       "      <td>84341.309325</td>\n",
       "      <td>85324.068992</td>\n",
       "      <td>87348.403336</td>\n",
       "      <td>...</td>\n",
       "      <td>6.386066</td>\n",
       "      <td>12.124590</td>\n",
       "      <td>8.665574</td>\n",
       "      <td>59.430738</td>\n",
       "      <td>9.666803</td>\n",
       "      <td>2.925820</td>\n",
       "      <td>5.896721</td>\n",
       "      <td>35.221380</td>\n",
       "      <td>240.652767</td>\n",
       "      <td>943.435936</td>\n",
       "    </tr>\n",
       "    <tr>\n",
       "      <th>std</th>\n",
       "      <td>46843.123050</td>\n",
       "      <td>14.488400</td>\n",
       "      <td>4.628041</td>\n",
       "      <td>7398.954194</td>\n",
       "      <td>4.780312</td>\n",
       "      <td>2.203853</td>\n",
       "      <td>0.842575</td>\n",
       "      <td>56616.230265</td>\n",
       "      <td>28515.307598</td>\n",
       "      <td>18610.438411</td>\n",
       "      <td>...</td>\n",
       "      <td>3.547081</td>\n",
       "      <td>6.197375</td>\n",
       "      <td>3.921152</td>\n",
       "      <td>15.477191</td>\n",
       "      <td>4.623843</td>\n",
       "      <td>2.061909</td>\n",
       "      <td>2.980262</td>\n",
       "      <td>27.478083</td>\n",
       "      <td>121.098102</td>\n",
       "      <td>1180.799807</td>\n",
       "    </tr>\n",
       "    <tr>\n",
       "      <th>min</th>\n",
       "      <td>100654.000000</td>\n",
       "      <td>-158.062444</td>\n",
       "      <td>19.701854</td>\n",
       "      <td>99.000000</td>\n",
       "      <td>3.300000</td>\n",
       "      <td>12.100000</td>\n",
       "      <td>16.500000</td>\n",
       "      <td>0.000000</td>\n",
       "      <td>24502.000000</td>\n",
       "      <td>34510.000000</td>\n",
       "      <td>...</td>\n",
       "      <td>-13.400000</td>\n",
       "      <td>0.000000</td>\n",
       "      <td>0.000000</td>\n",
       "      <td>0.000000</td>\n",
       "      <td>-9.000000</td>\n",
       "      <td>0.000000</td>\n",
       "      <td>0.000000</td>\n",
       "      <td>1.000000</td>\n",
       "      <td>4.000000</td>\n",
       "      <td>1.000000</td>\n",
       "    </tr>\n",
       "    <tr>\n",
       "      <th>25%</th>\n",
       "      <td>153117.000000</td>\n",
       "      <td>-93.985211</td>\n",
       "      <td>35.245352</td>\n",
       "      <td>1362.000000</td>\n",
       "      <td>18.900000</td>\n",
       "      <td>20.900000</td>\n",
       "      <td>21.500000</td>\n",
       "      <td>52789.500000</td>\n",
       "      <td>65365.000000</td>\n",
       "      <td>66436.000000</td>\n",
       "      <td>...</td>\n",
       "      <td>4.700000</td>\n",
       "      <td>8.275000</td>\n",
       "      <td>6.200000</td>\n",
       "      <td>52.950000</td>\n",
       "      <td>7.375000</td>\n",
       "      <td>1.500000</td>\n",
       "      <td>4.200000</td>\n",
       "      <td>14.000000</td>\n",
       "      <td>106.000000</td>\n",
       "      <td>244.500000</td>\n",
       "    </tr>\n",
       "    <tr>\n",
       "      <th>50%</th>\n",
       "      <td>186201.000000</td>\n",
       "      <td>-84.554583</td>\n",
       "      <td>39.730827</td>\n",
       "      <td>2618.000000</td>\n",
       "      <td>21.300000</td>\n",
       "      <td>22.200000</td>\n",
       "      <td>22.500000</td>\n",
       "      <td>70285.000000</td>\n",
       "      <td>79310.000000</td>\n",
       "      <td>101725.000000</td>\n",
       "      <td>...</td>\n",
       "      <td>6.400000</td>\n",
       "      <td>11.600000</td>\n",
       "      <td>8.150000</td>\n",
       "      <td>60.400000</td>\n",
       "      <td>9.650000</td>\n",
       "      <td>2.700000</td>\n",
       "      <td>5.550000</td>\n",
       "      <td>31.000000</td>\n",
       "      <td>252.000000</td>\n",
       "      <td>488.000000</td>\n",
       "    </tr>\n",
       "    <tr>\n",
       "      <th>75%</th>\n",
       "      <td>214805.500000</td>\n",
       "      <td>-77.473322</td>\n",
       "      <td>41.746897</td>\n",
       "      <td>6649.500000</td>\n",
       "      <td>23.800000</td>\n",
       "      <td>23.300000</td>\n",
       "      <td>22.500000</td>\n",
       "      <td>98288.000000</td>\n",
       "      <td>106812.000000</td>\n",
       "      <td>101725.000000</td>\n",
       "      <td>...</td>\n",
       "      <td>7.725000</td>\n",
       "      <td>14.825000</td>\n",
       "      <td>10.725000</td>\n",
       "      <td>69.225000</td>\n",
       "      <td>11.900000</td>\n",
       "      <td>3.800000</td>\n",
       "      <td>7.200000</td>\n",
       "      <td>44.000000</td>\n",
       "      <td>343.000000</td>\n",
       "      <td>1132.000000</td>\n",
       "    </tr>\n",
       "    <tr>\n",
       "      <th>max</th>\n",
       "      <td>462354.000000</td>\n",
       "      <td>-67.456534</td>\n",
       "      <td>61.191235</td>\n",
       "      <td>51333.000000</td>\n",
       "      <td>54.700000</td>\n",
       "      <td>50.900000</td>\n",
       "      <td>25.900000</td>\n",
       "      <td>598908.000000</td>\n",
       "      <td>188870.000000</td>\n",
       "      <td>101725.000000</td>\n",
       "      <td>...</td>\n",
       "      <td>29.800000</td>\n",
       "      <td>64.500000</td>\n",
       "      <td>25.300000</td>\n",
       "      <td>89.300000</td>\n",
       "      <td>32.000000</td>\n",
       "      <td>17.200000</td>\n",
       "      <td>21.300000</td>\n",
       "      <td>116.000000</td>\n",
       "      <td>386.000000</td>\n",
       "      <td>8025.000000</td>\n",
       "    </tr>\n",
       "  </tbody>\n",
       "</table>\n",
       "<p>8 rows × 50 columns</p>\n",
       "</div>"
      ],
      "text/plain": [
       "              unitid       long_x        lat_y  student_count  \\\n",
       "count    1319.000000  1319.000000  1319.000000    1319.000000   \n",
       "mean   184418.935557   -88.168245    38.586454    5757.220622   \n",
       "std     46843.123050    14.488400     4.628041    7398.954194   \n",
       "min    100654.000000  -158.062444    19.701854      99.000000   \n",
       "25%    153117.000000   -93.985211    35.245352    1362.000000   \n",
       "50%    186201.000000   -84.554583    39.730827    2618.000000   \n",
       "75%    214805.500000   -77.473322    41.746897    6649.500000   \n",
       "max    462354.000000   -67.456534    61.191235   51333.000000   \n",
       "\n",
       "       awards_per_value  awards_per_state_value  awards_per_natl_value  \\\n",
       "count       1319.000000             1319.000000            1319.000000   \n",
       "mean          21.545034               21.987870              22.102578   \n",
       "std            4.780312                2.203853               0.842575   \n",
       "min            3.300000               12.100000              16.500000   \n",
       "25%           18.900000               20.900000              21.500000   \n",
       "50%           21.300000               22.200000              22.500000   \n",
       "75%           23.800000               23.300000              22.500000   \n",
       "max           54.700000               50.900000              25.900000   \n",
       "\n",
       "       exp_award_value  exp_award_state_value  exp_award_natl_value  ...  \\\n",
       "count      1319.000000            1319.000000           1319.000000  ...   \n",
       "mean      84341.309325           85324.068992          87348.403336  ...   \n",
       "std       56616.230265           28515.307598          18610.438411  ...   \n",
       "min           0.000000           24502.000000          34510.000000  ...   \n",
       "25%       52789.500000           65365.000000          66436.000000  ...   \n",
       "50%       70285.000000           79310.000000         101725.000000  ...   \n",
       "75%       98288.000000          106812.000000         101725.000000  ...   \n",
       "max      598908.000000          188870.000000         101725.000000  ...   \n",
       "\n",
       "       vsa_grad_elsewhere_after4_transfer  vsa_enroll_after4_transfer  \\\n",
       "count                          244.000000                  244.000000   \n",
       "mean                             6.386066                   12.124590   \n",
       "std                              3.547081                    6.197375   \n",
       "min                            -13.400000                    0.000000   \n",
       "25%                              4.700000                    8.275000   \n",
       "50%                              6.400000                   11.600000   \n",
       "75%                              7.725000                   14.825000   \n",
       "max                             29.800000                   64.500000   \n",
       "\n",
       "       vsa_enroll_elsewhere_after4_transfer  vsa_grad_after6_transfer  \\\n",
       "count                            244.000000                244.000000   \n",
       "mean                               8.665574                 59.430738   \n",
       "std                                3.921152                 15.477191   \n",
       "min                                0.000000                  0.000000   \n",
       "25%                                6.200000                 52.950000   \n",
       "50%                                8.150000                 60.400000   \n",
       "75%                               10.725000                 69.225000   \n",
       "max                               25.300000                 89.300000   \n",
       "\n",
       "       vsa_grad_elsewhere_after6_transfer  vsa_enroll_after6_transfer  \\\n",
       "count                          244.000000                  244.000000   \n",
       "mean                             9.666803                    2.925820   \n",
       "std                              4.623843                    2.061909   \n",
       "min                             -9.000000                    0.000000   \n",
       "25%                              7.375000                    1.500000   \n",
       "50%                              9.650000                    2.700000   \n",
       "75%                             11.900000                    3.800000   \n",
       "max                             32.000000                   17.200000   \n",
       "\n",
       "       vsa_enroll_elsewhere_after6_transfer  state_sector_ct  carnegie_ct  \\\n",
       "count                            244.000000      1319.000000  1319.000000   \n",
       "mean                               5.896721        35.221380   240.652767   \n",
       "std                                2.980262        27.478083   121.098102   \n",
       "min                                0.000000         1.000000     4.000000   \n",
       "25%                                4.200000        14.000000   106.000000   \n",
       "50%                                5.550000        31.000000   252.000000   \n",
       "75%                                7.200000        44.000000   343.000000   \n",
       "max                               21.300000       116.000000   386.000000   \n",
       "\n",
       "       cohort_size  \n",
       "count  1319.000000  \n",
       "mean    943.435936  \n",
       "std    1180.799807  \n",
       "min       1.000000  \n",
       "25%     244.500000  \n",
       "50%     488.000000  \n",
       "75%    1132.000000  \n",
       "max    8025.000000  \n",
       "\n",
       "[8 rows x 50 columns]"
      ]
     },
     "execution_count": 3,
     "metadata": {},
     "output_type": "execute_result"
    }
   ],
   "source": [
    "df.describe()"
   ]
  },
  {
   "cell_type": "code",
   "execution_count": 4,
   "id": "55e5a511",
   "metadata": {
    "execution": {
     "iopub.execute_input": "2022-01-23T00:18:57.060771Z",
     "iopub.status.busy": "2022-01-23T00:18:57.060094Z",
     "iopub.status.idle": "2022-01-23T00:18:57.078947Z",
     "shell.execute_reply": "2022-01-23T00:18:57.079517Z",
     "shell.execute_reply.started": "2022-01-23T00:17:56.846515Z"
    },
    "papermill": {
     "duration": 0.033868,
     "end_time": "2022-01-23T00:18:57.079743",
     "exception": false,
     "start_time": "2022-01-23T00:18:57.045875",
     "status": "completed"
    },
    "tags": []
   },
   "outputs": [
    {
     "name": "stdout",
     "output_type": "stream",
     "text": [
      "<class 'pandas.core.frame.DataFrame'>\n",
      "Int64Index: 1319 entries, 0 to 3794\n",
      "Data columns (total 62 columns):\n",
      " #   Column                                Non-Null Count  Dtype  \n",
      "---  ------                                --------------  -----  \n",
      " 0   unitid                                1319 non-null   int64  \n",
      " 1   chronname                             1319 non-null   object \n",
      " 2   city                                  1319 non-null   object \n",
      " 3   state                                 1319 non-null   object \n",
      " 4   level                                 1319 non-null   object \n",
      " 5   control                               1319 non-null   object \n",
      " 6   basic                                 1319 non-null   object \n",
      " 7   hbcu                                  56 non-null     object \n",
      " 8   flagship                              47 non-null     object \n",
      " 9   long_x                                1319 non-null   float64\n",
      " 10  lat_y                                 1319 non-null   float64\n",
      " 11  site                                  1319 non-null   object \n",
      " 12  student_count                         1319 non-null   int64  \n",
      " 13  awards_per_value                      1319 non-null   float64\n",
      " 14  awards_per_state_value                1319 non-null   float64\n",
      " 15  awards_per_natl_value                 1319 non-null   float64\n",
      " 16  exp_award_value                       1319 non-null   int64  \n",
      " 17  exp_award_state_value                 1319 non-null   int64  \n",
      " 18  exp_award_natl_value                  1319 non-null   int64  \n",
      " 19  exp_award_percentile                  1319 non-null   int64  \n",
      " 20  ft_pct                                1319 non-null   float64\n",
      " 21  fte_value                             1319 non-null   int64  \n",
      " 22  fte_percentile                        1319 non-null   int64  \n",
      " 23  med_sat_value                         1319 non-null   float64\n",
      " 24  med_sat_percentile                    1319 non-null   float64\n",
      " 25  aid_value                             1319 non-null   float64\n",
      " 26  aid_percentile                        1319 non-null   float64\n",
      " 27  endow_value                           1285 non-null   float64\n",
      " 28  endow_percentile                      1285 non-null   float64\n",
      " 29  grad_100_value                        1319 non-null   float64\n",
      " 30  grad_100_percentile                   1319 non-null   float64\n",
      " 31  grad_150_value                        1319 non-null   float64\n",
      " 32  grad_150_percentile                   1319 non-null   float64\n",
      " 33  pell_value                            1319 non-null   float64\n",
      " 34  pell_percentile                       1319 non-null   float64\n",
      " 35  retain_value                          1319 non-null   float64\n",
      " 36  retain_percentile                     1319 non-null   float64\n",
      " 37  ft_fac_value                          1319 non-null   float64\n",
      " 38  ft_fac_percentile                     1319 non-null   float64\n",
      " 39  vsa_year                              252 non-null    float64\n",
      " 40  vsa_grad_after4_first                 252 non-null    float64\n",
      " 41  vsa_grad_elsewhere_after4_first       252 non-null    float64\n",
      " 42  vsa_enroll_after4_first               252 non-null    float64\n",
      " 43  vsa_enroll_elsewhere_after4_first     252 non-null    float64\n",
      " 44  vsa_grad_after6_first                 252 non-null    float64\n",
      " 45  vsa_grad_elsewhere_after6_first       252 non-null    float64\n",
      " 46  vsa_enroll_after6_first               252 non-null    float64\n",
      " 47  vsa_enroll_elsewhere_after6_first     252 non-null    float64\n",
      " 48  vsa_grad_after4_transfer              244 non-null    float64\n",
      " 49  vsa_grad_elsewhere_after4_transfer    244 non-null    float64\n",
      " 50  vsa_enroll_after4_transfer            244 non-null    float64\n",
      " 51  vsa_enroll_elsewhere_after4_transfer  244 non-null    float64\n",
      " 52  vsa_grad_after6_transfer              244 non-null    float64\n",
      " 53  vsa_grad_elsewhere_after6_transfer    244 non-null    float64\n",
      " 54  vsa_enroll_after6_transfer            244 non-null    float64\n",
      " 55  vsa_enroll_elsewhere_after6_transfer  244 non-null    float64\n",
      " 56  similar                               1311 non-null   object \n",
      " 57  state_sector_ct                       1319 non-null   int64  \n",
      " 58  carnegie_ct                           1319 non-null   int64  \n",
      " 59  counted_pct                           1316 non-null   object \n",
      " 60  nicknames                             282 non-null    object \n",
      " 61  cohort_size                           1319 non-null   float64\n",
      "dtypes: float64(40), int64(10), object(12)\n",
      "memory usage: 649.2+ KB\n"
     ]
    }
   ],
   "source": [
    "df.info()"
   ]
  },
  {
   "cell_type": "markdown",
   "id": "e14dd858",
   "metadata": {
    "papermill": {
     "duration": 0.01098,
     "end_time": "2022-01-23T00:18:57.101266",
     "exception": false,
     "start_time": "2022-01-23T00:18:57.090286",
     "status": "completed"
    },
    "tags": []
   },
   "source": [
    "### Identify independent variable ###"
   ]
  },
  {
   "cell_type": "code",
   "execution_count": 5,
   "id": "47a5598b",
   "metadata": {
    "execution": {
     "iopub.execute_input": "2022-01-23T00:18:57.125503Z",
     "iopub.status.busy": "2022-01-23T00:18:57.124924Z",
     "iopub.status.idle": "2022-01-23T00:18:57.130996Z",
     "shell.execute_reply": "2022-01-23T00:18:57.131469Z",
     "shell.execute_reply.started": "2022-01-23T00:17:56.869476Z"
    },
    "papermill": {
     "duration": 0.019925,
     "end_time": "2022-01-23T00:18:57.131640",
     "exception": false,
     "start_time": "2022-01-23T00:18:57.111715",
     "status": "completed"
    },
    "tags": []
   },
   "outputs": [
    {
     "data": {
      "text/plain": [
       "array([[ 823.],\n",
       "       [1146.],\n",
       "       [1180.],\n",
       "       ...,\n",
       "       [1070.],\n",
       "       [1160.],\n",
       "       [1069.]])"
      ]
     },
     "execution_count": 5,
     "metadata": {},
     "output_type": "execute_result"
    }
   ],
   "source": [
    "X = df['med_sat_value'].values.reshape(-1,1)\n",
    "X"
   ]
  },
  {
   "cell_type": "markdown",
   "id": "92d19407",
   "metadata": {
    "papermill": {
     "duration": 0.010395,
     "end_time": "2022-01-23T00:18:57.152784",
     "exception": false,
     "start_time": "2022-01-23T00:18:57.142389",
     "status": "completed"
    },
    "tags": []
   },
   "source": [
    "### Identify dependent variable ###"
   ]
  },
  {
   "cell_type": "code",
   "execution_count": 6,
   "id": "402be3ac",
   "metadata": {
    "execution": {
     "iopub.execute_input": "2022-01-23T00:18:57.177247Z",
     "iopub.status.busy": "2022-01-23T00:18:57.176601Z",
     "iopub.status.idle": "2022-01-23T00:18:57.182177Z",
     "shell.execute_reply": "2022-01-23T00:18:57.182641Z",
     "shell.execute_reply.started": "2022-01-23T00:17:56.878732Z"
    },
    "papermill": {
     "duration": 0.019463,
     "end_time": "2022-01-23T00:18:57.182845",
     "exception": false,
     "start_time": "2022-01-23T00:18:57.163382",
     "status": "completed"
    },
    "tags": []
   },
   "outputs": [
    {
     "data": {
      "text/plain": [
       "array([[10. ],\n",
       "       [29.4],\n",
       "       [16.5],\n",
       "       ...,\n",
       "       [ 0. ],\n",
       "       [56.8],\n",
       "       [51.5]])"
      ]
     },
     "execution_count": 6,
     "metadata": {},
     "output_type": "execute_result"
    }
   ],
   "source": [
    "Y = df['grad_100_value'].values.reshape(-1,1)\n",
    "Y"
   ]
  },
  {
   "cell_type": "markdown",
   "id": "37b85148",
   "metadata": {
    "papermill": {
     "duration": 0.010641,
     "end_time": "2022-01-23T00:18:57.204540",
     "exception": false,
     "start_time": "2022-01-23T00:18:57.193899",
     "status": "completed"
    },
    "tags": []
   },
   "source": [
    "### Split Data into Training/Testing & Plot points ###"
   ]
  },
  {
   "cell_type": "code",
   "execution_count": 7,
   "id": "6c711572",
   "metadata": {
    "execution": {
     "iopub.execute_input": "2022-01-23T00:18:57.233549Z",
     "iopub.status.busy": "2022-01-23T00:18:57.232912Z",
     "iopub.status.idle": "2022-01-23T00:18:57.468543Z",
     "shell.execute_reply": "2022-01-23T00:18:57.467942Z",
     "shell.execute_reply.started": "2022-01-23T00:17:56.891353Z"
    },
    "papermill": {
     "duration": 0.252938,
     "end_time": "2022-01-23T00:18:57.468719",
     "exception": false,
     "start_time": "2022-01-23T00:18:57.215781",
     "status": "completed"
    },
    "tags": []
   },
   "outputs": [
    {
     "data": {
      "image/png": "[encoded data removed]",
      "text/plain": [
       "<Figure size 432x288 with 1 Axes>"
      ]
     },
     "metadata": {
      "needs_background": "light"
     },
     "output_type": "display_data"
    }
   ],
   "source": [
    "# Split the data into training and testing portions\n",
    "x_train, x_test, y_train, y_test = train_test_split(X,Y, train_size=.8, test_size=.2, random_state=100)\n",
    "\n",
    "# Plot the best fit line and scatter-plot of data\n",
    "m, b = np.polyfit(df['med_sat_value'], df['grad_100_value'], 1)\n",
    "plt.plot(X, m*X + b)\n",
    "plt.scatter(x_train, y_train, color='red')\n",
    "\n",
    "# Assign labels \n",
    "plt.xlabel('Median SAT Score')\n",
    "plt.ylabel=('Graduation Rate')\n",
    "plt.title('Training Data')\n",
    "\n",
    "plt.show()"
   ]
  },
  {
   "cell_type": "markdown",
   "id": "64618990",
   "metadata": {
    "papermill": {
     "duration": 0.011615,
     "end_time": "2022-01-23T00:18:57.492736",
     "exception": false,
     "start_time": "2022-01-23T00:18:57.481121",
     "status": "completed"
    },
    "tags": []
   },
   "source": [
    "### Fit Linear Model and Make Predictions ###"
   ]
  },
  {
   "cell_type": "code",
   "execution_count": 8,
   "id": "f8eb5949",
   "metadata": {
    "execution": {
     "iopub.execute_input": "2022-01-23T00:18:57.525700Z",
     "iopub.status.busy": "2022-01-23T00:18:57.522138Z",
     "iopub.status.idle": "2022-01-23T00:18:57.529109Z",
     "shell.execute_reply": "2022-01-23T00:18:57.529624Z",
     "shell.execute_reply.started": "2022-01-23T00:17:57.097097Z"
    },
    "papermill": {
     "duration": 0.02523,
     "end_time": "2022-01-23T00:18:57.529826",
     "exception": false,
     "start_time": "2022-01-23T00:18:57.504596",
     "status": "completed"
    },
    "tags": []
   },
   "outputs": [
    {
     "name": "stdout",
     "output_type": "stream",
     "text": [
      "Training Accuracy 56.36%\n",
      "Test Accuracy 56.97%\n"
     ]
    }
   ],
   "source": [
    "lm = LinearRegression()\n",
    "lm.fit(x_train, y_train)\n",
    "y_predict = lm.predict(x_test)\n",
    "\n",
    "\n",
    "training_acc = round(lm.score(x_train, y_train)*100, 2)\n",
    "testing_acc = round(lm.score(x_test, y_test)* 100, 2)\n",
    "print(f'Training Accuracy {training_acc}%')\n",
    "print(f'Test Accuracy {testing_acc}%')"
   ]
  },
  {
   "cell_type": "markdown",
   "id": "02187e55",
   "metadata": {
    "papermill": {
     "duration": 0.011885,
     "end_time": "2022-01-23T00:18:57.553983",
     "exception": false,
     "start_time": "2022-01-23T00:18:57.542098",
     "status": "completed"
    },
    "tags": []
   },
   "source": [
    "### Conclusions ###\n",
    "* Since the accuracy of the model prediction is < 60%, we can make the assumption that there is not a strong relationship between Median SAT Score and Graduation Rate\n",
    "* From the scatter plot we can see that the residuals trend closer to the best-fit line as the median SAT score increases\n",
    "* There are several outliers in the data, with relatively high graduation rates at low median SAT scores and vice versa"
   ]
  }
 ],
 "metadata": {
  "kernelspec": {
   "display_name": "Python 3",
   "language": "python",
   "name": "python3"
  },
  "language_info": {
   "codemirror_mode": {
    "name": "ipython",
    "version": 3
   },
   "file_extension": ".py",
   "mimetype": "text/x-python",
   "name": "python",
   "nbconvert_exporter": "python",
   "pygments_lexer": "ipython3",
   "version": "3.7.12"
  },
  "papermill": {
   "default_parameters": {},
   "duration": 11.797243,
   "end_time": "2022-01-23T00:18:58.277287",
   "environment_variables": {},
   "exception": null,
   "input_path": "__notebook__.ipynb",
   "output_path": "__notebook__.ipynb",
   "parameters": {},
   "start_time": "2022-01-23T00:18:46.480044",
   "version": "2.3.3"
  }
 },
 "nbformat": 4,
 "nbformat_minor": 5
}
