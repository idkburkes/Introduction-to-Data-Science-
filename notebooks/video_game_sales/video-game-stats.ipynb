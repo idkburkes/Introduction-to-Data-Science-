{
 "cells": [
  {
   "cell_type": "code",
   "execution_count": 1,
   "id": "400340d6",
   "metadata": {
    "_cell_guid": "b1076dfc-b9ad-4769-8c92-a6c4dae69d19",
    "_uuid": "8f2839f25d086af736a60e9eeb907d3b93b6e0e5",
    "execution": {
     "iopub.execute_input": "2022-01-21T05:33:30.443302Z",
     "iopub.status.busy": "2022-01-21T05:33:30.442008Z",
     "iopub.status.idle": "2022-01-21T05:33:30.460500Z",
     "shell.execute_reply": "2022-01-21T05:33:30.459812Z",
     "shell.execute_reply.started": "2022-01-21T05:33:03.699668Z"
    },
    "papermill": {
     "duration": 0.04003,
     "end_time": "2022-01-21T05:33:30.460669",
     "exception": false,
     "start_time": "2022-01-21T05:33:30.420639",
     "status": "completed"
    },
    "tags": []
   },
   "outputs": [
    {
     "name": "stdout",
     "output_type": "stream",
     "text": [
      "/kaggle/input/videogamesales/vgsales.csv\n"
     ]
    }
   ],
   "source": [
    "# This Python 3 environment comes with many helpful analytics libraries installed\n",
    "# It is defined by the kaggle/python Docker image: https://github.com/kaggle/docker-python\n",
    "# For example, here's several helpful packages to load\n",
    "\n",
    "import numpy as np # linear algebra\n",
    "import pandas as pd # data processing, CSV file I/O (e.g. pd.read_csv)\n",
    "\n",
    "# Input data files are available in the read-only \"../input/\" directory\n",
    "# For example, running this (by clicking run or pressing Shift+Enter) will list all files under the input directory\n",
    "\n",
    "import os\n",
    "for dirname, _, filenames in os.walk('/kaggle/input'):\n",
    "    for filename in filenames:\n",
    "        print(os.path.join(dirname, filename))\n",
    "\n",
    "# You can write up to 20GB to the current directory (/kaggle/working/) that gets preserved as output when you create a version using \"Save & Run All\" \n",
    "# You can also write temporary files to /kaggle/temp/, but they won't be saved outside of the current session"
   ]
  },
  {
   "cell_type": "code",
   "execution_count": 2,
   "id": "07a76c85",
   "metadata": {
    "execution": {
     "iopub.execute_input": "2022-01-21T05:33:30.499110Z",
     "iopub.status.busy": "2022-01-21T05:33:30.498489Z",
     "iopub.status.idle": "2022-01-21T05:33:30.571175Z",
     "shell.execute_reply": "2022-01-21T05:33:30.571750Z",
     "shell.execute_reply.started": "2022-01-21T05:33:03.715775Z"
    },
    "papermill": {
     "duration": 0.093293,
     "end_time": "2022-01-21T05:33:30.571921",
     "exception": false,
     "start_time": "2022-01-21T05:33:30.478628",
     "status": "completed"
    },
    "tags": []
   },
   "outputs": [],
   "source": [
    "filename = '../input/videogamesales/vgsales.csv'\n",
    "df = pd.read_csv(filename)"
   ]
  },
  {
   "cell_type": "markdown",
   "id": "70373976",
   "metadata": {
    "papermill": {
     "duration": 0.017146,
     "end_time": "2022-01-21T05:33:30.606525",
     "exception": false,
     "start_time": "2022-01-21T05:33:30.589379",
     "status": "completed"
    },
    "tags": []
   },
   "source": [
    "Which company is the most common video game publisher?"
   ]
  },
  {
   "cell_type": "code",
   "execution_count": 3,
   "id": "fc3d9e1d",
   "metadata": {
    "execution": {
     "iopub.execute_input": "2022-01-21T05:33:30.643906Z",
     "iopub.status.busy": "2022-01-21T05:33:30.643294Z",
     "iopub.status.idle": "2022-01-21T05:33:30.657776Z",
     "shell.execute_reply": "2022-01-21T05:33:30.658276Z",
     "shell.execute_reply.started": "2022-01-21T05:33:03.768319Z"
    },
    "papermill": {
     "duration": 0.034715,
     "end_time": "2022-01-21T05:33:30.658459",
     "exception": false,
     "start_time": "2022-01-21T05:33:30.623744",
     "status": "completed"
    },
    "tags": []
   },
   "outputs": [
    {
     "name": "stdout",
     "output_type": "stream",
     "text": [
      "Electronic Arts\n"
     ]
    }
   ],
   "source": [
    "most_common_publisher = df['Publisher'].mode()[0]\n",
    "print(most_common_publisher)"
   ]
  },
  {
   "cell_type": "markdown",
   "id": "a3eae05e",
   "metadata": {
    "papermill": {
     "duration": 0.017098,
     "end_time": "2022-01-21T05:33:30.693259",
     "exception": false,
     "start_time": "2022-01-21T05:33:30.676161",
     "status": "completed"
    },
    "tags": []
   },
   "source": [
    "What’s the most common platform?"
   ]
  },
  {
   "cell_type": "code",
   "execution_count": 4,
   "id": "4bfd768e",
   "metadata": {
    "execution": {
     "iopub.execute_input": "2022-01-21T05:33:30.731848Z",
     "iopub.status.busy": "2022-01-21T05:33:30.730701Z",
     "iopub.status.idle": "2022-01-21T05:33:30.739417Z",
     "shell.execute_reply": "2022-01-21T05:33:30.738662Z",
     "shell.execute_reply.started": "2022-01-21T05:33:03.777601Z"
    },
    "papermill": {
     "duration": 0.028925,
     "end_time": "2022-01-21T05:33:30.739596",
     "exception": false,
     "start_time": "2022-01-21T05:33:30.710671",
     "status": "completed"
    },
    "tags": []
   },
   "outputs": [
    {
     "name": "stdout",
     "output_type": "stream",
     "text": [
      "DS\n"
     ]
    }
   ],
   "source": [
    "most_common_platform = df['Platform'].mode()[0]\n",
    "print(most_common_platform)"
   ]
  },
  {
   "cell_type": "markdown",
   "id": "a1131dbb",
   "metadata": {
    "papermill": {
     "duration": 0.017373,
     "end_time": "2022-01-21T05:33:30.776033",
     "exception": false,
     "start_time": "2022-01-21T05:33:30.758660",
     "status": "completed"
    },
    "tags": []
   },
   "source": [
    "Whats the most common genre?"
   ]
  },
  {
   "cell_type": "code",
   "execution_count": 5,
   "id": "01917af0",
   "metadata": {
    "execution": {
     "iopub.execute_input": "2022-01-21T05:33:30.815478Z",
     "iopub.status.busy": "2022-01-21T05:33:30.814784Z",
     "iopub.status.idle": "2022-01-21T05:33:30.822797Z",
     "shell.execute_reply": "2022-01-21T05:33:30.822158Z",
     "shell.execute_reply.started": "2022-01-21T05:33:03.795895Z"
    },
    "papermill": {
     "duration": 0.028925,
     "end_time": "2022-01-21T05:33:30.822936",
     "exception": false,
     "start_time": "2022-01-21T05:33:30.794011",
     "status": "completed"
    },
    "tags": []
   },
   "outputs": [
    {
     "name": "stdout",
     "output_type": "stream",
     "text": [
      "Action\n"
     ]
    }
   ],
   "source": [
    "most_common_genre = df['Genre'].mode()[0]\n",
    "print(most_common_genre)"
   ]
  },
  {
   "cell_type": "markdown",
   "id": "d7b0b9d1",
   "metadata": {
    "papermill": {
     "duration": 0.017896,
     "end_time": "2022-01-21T05:33:30.859766",
     "exception": false,
     "start_time": "2022-01-21T05:33:30.841870",
     "status": "completed"
    },
    "tags": []
   },
   "source": [
    "What are the top 20 highest grossing games?"
   ]
  },
  {
   "cell_type": "code",
   "execution_count": 6,
   "id": "739bdbb7",
   "metadata": {
    "execution": {
     "iopub.execute_input": "2022-01-21T05:33:30.898943Z",
     "iopub.status.busy": "2022-01-21T05:33:30.898306Z",
     "iopub.status.idle": "2022-01-21T05:33:30.913474Z",
     "shell.execute_reply": "2022-01-21T05:33:30.914007Z",
     "shell.execute_reply.started": "2022-01-21T05:33:03.807150Z"
    },
    "papermill": {
     "duration": 0.036315,
     "end_time": "2022-01-21T05:33:30.914192",
     "exception": false,
     "start_time": "2022-01-21T05:33:30.877877",
     "status": "completed"
    },
    "tags": []
   },
   "outputs": [
    {
     "name": "stdout",
     "output_type": "stream",
     "text": [
      "                                            Name  Global_Sales\n",
      "0                                     Wii Sports         82.74\n",
      "1                              Super Mario Bros.         40.24\n",
      "2                                 Mario Kart Wii         35.82\n",
      "3                              Wii Sports Resort         33.00\n",
      "4                       Pokemon Red/Pokemon Blue         31.37\n",
      "5                                         Tetris         30.26\n",
      "6                          New Super Mario Bros.         30.01\n",
      "7                                       Wii Play         29.02\n",
      "8                      New Super Mario Bros. Wii         28.62\n",
      "9                                      Duck Hunt         28.31\n",
      "10                                    Nintendogs         24.76\n",
      "11                                 Mario Kart DS         23.42\n",
      "12                   Pokemon Gold/Pokemon Silver         23.10\n",
      "13                                       Wii Fit         22.72\n",
      "14                                  Wii Fit Plus         22.00\n",
      "15                            Kinect Adventures!         21.82\n",
      "16                            Grand Theft Auto V         21.40\n",
      "17                 Grand Theft Auto: San Andreas         20.81\n",
      "18                             Super Mario World         20.61\n",
      "19  Brain Age: Train Your Brain in Minutes a Day         20.22\n"
     ]
    }
   ],
   "source": [
    "top_twenty_highest_grossing_games = df[['Name','Global_Sales']].sort_values('Global_Sales',ascending=False).head(20)\n",
    "print(top_twenty_highest_grossing_games)"
   ]
  },
  {
   "cell_type": "markdown",
   "id": "b8674fd1",
   "metadata": {
    "papermill": {
     "duration": 0.018232,
     "end_time": "2022-01-21T05:33:30.950985",
     "exception": false,
     "start_time": "2022-01-21T05:33:30.932753",
     "status": "completed"
    },
    "tags": []
   },
   "source": [
    "For North American video game sales, what’s the median?\n",
    "Provide a secondary output showing ten games surrounding the median sales output.\n",
    "Assume that games with same median value are sorted in descending order."
   ]
  },
  {
   "cell_type": "code",
   "execution_count": 7,
   "id": "0266d1bf",
   "metadata": {
    "execution": {
     "iopub.execute_input": "2022-01-21T05:33:30.992150Z",
     "iopub.status.busy": "2022-01-21T05:33:30.991464Z",
     "iopub.status.idle": "2022-01-21T05:33:31.005214Z",
     "shell.execute_reply": "2022-01-21T05:33:31.004463Z",
     "shell.execute_reply.started": "2022-01-21T05:33:03.822993Z"
    },
    "papermill": {
     "duration": 0.035285,
     "end_time": "2022-01-21T05:33:31.005360",
     "exception": false,
     "start_time": "2022-01-21T05:33:30.970075",
     "status": "completed"
    },
    "tags": []
   },
   "outputs": [
    {
     "name": "stdout",
     "output_type": "stream",
     "text": [
      "Median of North American video game sales is 0.08\n",
      "                                                   Name  NA_Sales\n",
      "10802                Bladestorm: The Hundred Years' War      0.08\n",
      "9569                              Batman: Arkham Knight      0.08\n",
      "8550      Wakeboarding Unleashed Featuring Shaun Murray      0.08\n",
      "10799                                         Mind Quiz      0.08\n",
      "9197                       The Walking Dead: Season Two      0.08\n",
      "9192                                      Dino Crisis 3      0.08\n",
      "10181                              Smash Court Tennis 3      0.08\n",
      "8802   Disney's The Lion King: Simba's Mighty Adventure      0.08\n",
      "8724                                             Driven      0.08\n",
      "10793                                      Glory Days 2      0.08\n"
     ]
    }
   ],
   "source": [
    "na_median_sales = df['NA_Sales'].median()\n",
    "print(f'Median of North American video game sales is {na_median_sales}')\n",
    "\n",
    "mid = len(df) // 2\n",
    "ten_median_na_seller_names = df[['Name','NA_Sales']].sort_values('NA_Sales',ascending=False)[mid-5:mid+5]\n",
    "print(ten_median_na_seller_names)\n"
   ]
  },
  {
   "cell_type": "markdown",
   "id": "1ad6f1db",
   "metadata": {
    "papermill": {
     "duration": 0.01913,
     "end_time": "2022-01-21T05:33:31.043572",
     "exception": false,
     "start_time": "2022-01-21T05:33:31.024442",
     "status": "completed"
    },
    "tags": []
   },
   "source": [
    "For the top-selling game of all time, how many standard deviations above/below the mean are its sales for North America?"
   ]
  },
  {
   "cell_type": "code",
   "execution_count": 8,
   "id": "3d9f083d",
   "metadata": {
    "execution": {
     "iopub.execute_input": "2022-01-21T05:33:31.084754Z",
     "iopub.status.busy": "2022-01-21T05:33:31.084150Z",
     "iopub.status.idle": "2022-01-21T05:33:31.094997Z",
     "shell.execute_reply": "2022-01-21T05:33:31.095720Z",
     "shell.execute_reply.started": "2022-01-21T05:33:03.838938Z"
    },
    "papermill": {
     "duration": 0.033491,
     "end_time": "2022-01-21T05:33:31.095892",
     "exception": false,
     "start_time": "2022-01-21T05:33:31.062401",
     "status": "completed"
    },
    "tags": []
   },
   "outputs": [
    {
     "name": "stdout",
     "output_type": "stream",
     "text": [
      "Top-selling game is 50.47898767478096 standard deviations away from mean\n"
     ]
    }
   ],
   "source": [
    "top_seller_na_sales = df.sort_values('Global_Sales',ascending=False)['NA_Sales'][0]\n",
    "top_seller_std_diff = (top_seller_na_sales - df['NA_Sales'].mean() ) / df['NA_Sales'].std()\n",
    "print(f'Top-selling game is {top_seller_std_diff} standard deviations away from mean')\n"
   ]
  },
  {
   "cell_type": "markdown",
   "id": "e7b8f43d",
   "metadata": {
    "papermill": {
     "duration": 0.027018,
     "end_time": "2022-01-21T05:33:31.147393",
     "exception": false,
     "start_time": "2022-01-21T05:33:31.120375",
     "status": "completed"
    },
    "tags": []
   },
   "source": [
    "The Nintendo Wii seems to have outdone itself with games. How does its average number of sales compare with all of the other platforms?"
   ]
  },
  {
   "cell_type": "code",
   "execution_count": 9,
   "id": "ada0a424",
   "metadata": {
    "execution": {
     "iopub.execute_input": "2022-01-21T05:33:31.199048Z",
     "iopub.status.busy": "2022-01-21T05:33:31.198386Z",
     "iopub.status.idle": "2022-01-21T05:33:31.221459Z",
     "shell.execute_reply": "2022-01-21T05:33:31.221945Z",
     "shell.execute_reply.started": "2022-01-21T05:33:03.850094Z"
    },
    "papermill": {
     "duration": 0.049914,
     "end_time": "2022-01-21T05:33:31.222152",
     "exception": false,
     "start_time": "2022-01-21T05:33:31.172238",
     "status": "completed"
    },
    "tags": []
   },
   "outputs": [
    {
     "data": {
      "text/html": [
       "<div>\n",
       "<style scoped>\n",
       "    .dataframe tbody tr th:only-of-type {\n",
       "        vertical-align: middle;\n",
       "    }\n",
       "\n",
       "    .dataframe tbody tr th {\n",
       "        vertical-align: top;\n",
       "    }\n",
       "\n",
       "    .dataframe thead th {\n",
       "        text-align: right;\n",
       "    }\n",
       "</style>\n",
       "<table border=\"1\" class=\"dataframe\">\n",
       "  <thead>\n",
       "    <tr style=\"text-align: right;\">\n",
       "      <th></th>\n",
       "      <th>Platform</th>\n",
       "      <th>Average_Sales</th>\n",
       "    </tr>\n",
       "  </thead>\n",
       "  <tbody>\n",
       "    <tr>\n",
       "      <th>0</th>\n",
       "      <td>Wii</td>\n",
       "      <td>20.6850</td>\n",
       "    </tr>\n",
       "    <tr>\n",
       "      <th>1</th>\n",
       "      <td>NES</td>\n",
       "      <td>10.0600</td>\n",
       "    </tr>\n",
       "    <tr>\n",
       "      <th>2</th>\n",
       "      <td>Wii</td>\n",
       "      <td>8.9575</td>\n",
       "    </tr>\n",
       "    <tr>\n",
       "      <th>3</th>\n",
       "      <td>Wii</td>\n",
       "      <td>8.2500</td>\n",
       "    </tr>\n",
       "    <tr>\n",
       "      <th>4</th>\n",
       "      <td>GB</td>\n",
       "      <td>7.8450</td>\n",
       "    </tr>\n",
       "    <tr>\n",
       "      <th>...</th>\n",
       "      <td>...</td>\n",
       "      <td>...</td>\n",
       "    </tr>\n",
       "    <tr>\n",
       "      <th>16593</th>\n",
       "      <td>GBA</td>\n",
       "      <td>0.0025</td>\n",
       "    </tr>\n",
       "    <tr>\n",
       "      <th>16594</th>\n",
       "      <td>GC</td>\n",
       "      <td>0.0025</td>\n",
       "    </tr>\n",
       "    <tr>\n",
       "      <th>16595</th>\n",
       "      <td>PS2</td>\n",
       "      <td>0.0000</td>\n",
       "    </tr>\n",
       "    <tr>\n",
       "      <th>16596</th>\n",
       "      <td>DS</td>\n",
       "      <td>0.0025</td>\n",
       "    </tr>\n",
       "    <tr>\n",
       "      <th>16597</th>\n",
       "      <td>GBA</td>\n",
       "      <td>0.0025</td>\n",
       "    </tr>\n",
       "  </tbody>\n",
       "</table>\n",
       "<p>16598 rows × 2 columns</p>\n",
       "</div>"
      ],
      "text/plain": [
       "      Platform  Average_Sales\n",
       "0          Wii        20.6850\n",
       "1          NES        10.0600\n",
       "2          Wii         8.9575\n",
       "3          Wii         8.2500\n",
       "4           GB         7.8450\n",
       "...        ...            ...\n",
       "16593      GBA         0.0025\n",
       "16594       GC         0.0025\n",
       "16595      PS2         0.0000\n",
       "16596       DS         0.0025\n",
       "16597      GBA         0.0025\n",
       "\n",
       "[16598 rows x 2 columns]"
      ]
     },
     "execution_count": 9,
     "metadata": {},
     "output_type": "execute_result"
    }
   ],
   "source": [
    "unique_pl = df['Platform'].unique()\n",
    "\n",
    "df['Average_Sales'] = df[['NA_Sales','EU_Sales','JP_Sales','Other_Sales']].mean(axis=1)\n",
    "df[['Platform','Average_Sales']]"
   ]
  },
  {
   "cell_type": "markdown",
   "id": "51fc834c",
   "metadata": {
    "papermill": {
     "duration": 0.020154,
     "end_time": "2022-01-21T05:33:31.262199",
     "exception": false,
     "start_time": "2022-01-21T05:33:31.242045",
     "status": "completed"
    },
    "tags": []
   },
   "source": [
    "Come up with 3 more questions that can be answered with this data set."
   ]
  },
  {
   "cell_type": "markdown",
   "id": "2001cd68",
   "metadata": {
    "papermill": {
     "duration": 0.01963,
     "end_time": "2022-01-21T05:33:31.303244",
     "exception": false,
     "start_time": "2022-01-21T05:33:31.283614",
     "status": "completed"
    },
    "tags": []
   },
   "source": [
    "What are the top 10 grossing games in Japan?"
   ]
  },
  {
   "cell_type": "code",
   "execution_count": 10,
   "id": "9cca4013",
   "metadata": {
    "execution": {
     "iopub.execute_input": "2022-01-21T05:33:31.346269Z",
     "iopub.status.busy": "2022-01-21T05:33:31.345317Z",
     "iopub.status.idle": "2022-01-21T05:33:31.359259Z",
     "shell.execute_reply": "2022-01-21T05:33:31.358757Z",
     "shell.execute_reply.started": "2022-01-21T05:33:03.876456Z"
    },
    "papermill": {
     "duration": 0.03649,
     "end_time": "2022-01-21T05:33:31.359403",
     "exception": false,
     "start_time": "2022-01-21T05:33:31.322913",
     "status": "completed"
    },
    "tags": []
   },
   "outputs": [
    {
     "data": {
      "text/html": [
       "<div>\n",
       "<style scoped>\n",
       "    .dataframe tbody tr th:only-of-type {\n",
       "        vertical-align: middle;\n",
       "    }\n",
       "\n",
       "    .dataframe tbody tr th {\n",
       "        vertical-align: top;\n",
       "    }\n",
       "\n",
       "    .dataframe thead th {\n",
       "        text-align: right;\n",
       "    }\n",
       "</style>\n",
       "<table border=\"1\" class=\"dataframe\">\n",
       "  <thead>\n",
       "    <tr style=\"text-align: right;\">\n",
       "      <th></th>\n",
       "      <th>Name</th>\n",
       "      <th>JP_Sales</th>\n",
       "    </tr>\n",
       "  </thead>\n",
       "  <tbody>\n",
       "    <tr>\n",
       "      <th>4</th>\n",
       "      <td>Pokemon Red/Pokemon Blue</td>\n",
       "      <td>10.22</td>\n",
       "    </tr>\n",
       "    <tr>\n",
       "      <th>12</th>\n",
       "      <td>Pokemon Gold/Pokemon Silver</td>\n",
       "      <td>7.20</td>\n",
       "    </tr>\n",
       "    <tr>\n",
       "      <th>1</th>\n",
       "      <td>Super Mario Bros.</td>\n",
       "      <td>6.81</td>\n",
       "    </tr>\n",
       "    <tr>\n",
       "      <th>6</th>\n",
       "      <td>New Super Mario Bros.</td>\n",
       "      <td>6.50</td>\n",
       "    </tr>\n",
       "    <tr>\n",
       "      <th>20</th>\n",
       "      <td>Pokemon Diamond/Pokemon Pearl</td>\n",
       "      <td>6.04</td>\n",
       "    </tr>\n",
       "    <tr>\n",
       "      <th>26</th>\n",
       "      <td>Pokemon Black/Pokemon White</td>\n",
       "      <td>5.65</td>\n",
       "    </tr>\n",
       "    <tr>\n",
       "      <th>25</th>\n",
       "      <td>Pokemon Ruby/Pokemon Sapphire</td>\n",
       "      <td>5.38</td>\n",
       "    </tr>\n",
       "    <tr>\n",
       "      <th>41</th>\n",
       "      <td>Animal Crossing: Wild World</td>\n",
       "      <td>5.33</td>\n",
       "    </tr>\n",
       "    <tr>\n",
       "      <th>27</th>\n",
       "      <td>Brain Age 2: More Training in Minutes a Day</td>\n",
       "      <td>5.32</td>\n",
       "    </tr>\n",
       "    <tr>\n",
       "      <th>214</th>\n",
       "      <td>Monster Hunter Freedom 3</td>\n",
       "      <td>4.87</td>\n",
       "    </tr>\n",
       "  </tbody>\n",
       "</table>\n",
       "</div>"
      ],
      "text/plain": [
       "                                            Name  JP_Sales\n",
       "4                       Pokemon Red/Pokemon Blue     10.22\n",
       "12                   Pokemon Gold/Pokemon Silver      7.20\n",
       "1                              Super Mario Bros.      6.81\n",
       "6                          New Super Mario Bros.      6.50\n",
       "20                 Pokemon Diamond/Pokemon Pearl      6.04\n",
       "26                   Pokemon Black/Pokemon White      5.65\n",
       "25                 Pokemon Ruby/Pokemon Sapphire      5.38\n",
       "41                   Animal Crossing: Wild World      5.33\n",
       "27   Brain Age 2: More Training in Minutes a Day      5.32\n",
       "214                     Monster Hunter Freedom 3      4.87"
      ]
     },
     "execution_count": 10,
     "metadata": {},
     "output_type": "execute_result"
    }
   ],
   "source": [
    "df[['Name','JP_Sales']].sort_values('JP_Sales',ascending=False).head(10)"
   ]
  },
  {
   "cell_type": "markdown",
   "id": "455aaaa5",
   "metadata": {
    "papermill": {
     "duration": 0.01996,
     "end_time": "2022-01-21T05:33:31.399750",
     "exception": false,
     "start_time": "2022-01-21T05:33:31.379790",
     "status": "completed"
    },
    "tags": []
   },
   "source": [
    "Which 10 games have the largest difference between its American price and Japanese price?"
   ]
  },
  {
   "cell_type": "code",
   "execution_count": 11,
   "id": "782f0f85",
   "metadata": {
    "execution": {
     "iopub.execute_input": "2022-01-21T05:33:31.443731Z",
     "iopub.status.busy": "2022-01-21T05:33:31.442796Z",
     "iopub.status.idle": "2022-01-21T05:33:31.458559Z",
     "shell.execute_reply": "2022-01-21T05:33:31.459006Z",
     "shell.execute_reply.started": "2022-01-21T05:33:03.897883Z"
    },
    "papermill": {
     "duration": 0.039235,
     "end_time": "2022-01-21T05:33:31.459203",
     "exception": false,
     "start_time": "2022-01-21T05:33:31.419968",
     "status": "completed"
    },
    "tags": []
   },
   "outputs": [
    {
     "data": {
      "text/html": [
       "<div>\n",
       "<style scoped>\n",
       "    .dataframe tbody tr th:only-of-type {\n",
       "        vertical-align: middle;\n",
       "    }\n",
       "\n",
       "    .dataframe tbody tr th {\n",
       "        vertical-align: top;\n",
       "    }\n",
       "\n",
       "    .dataframe thead th {\n",
       "        text-align: right;\n",
       "    }\n",
       "</style>\n",
       "<table border=\"1\" class=\"dataframe\">\n",
       "  <thead>\n",
       "    <tr style=\"text-align: right;\">\n",
       "      <th></th>\n",
       "      <th>Name</th>\n",
       "      <th>Difference</th>\n",
       "    </tr>\n",
       "  </thead>\n",
       "  <tbody>\n",
       "    <tr>\n",
       "      <th>0</th>\n",
       "      <td>Wii Sports</td>\n",
       "      <td>37.72</td>\n",
       "    </tr>\n",
       "    <tr>\n",
       "      <th>9</th>\n",
       "      <td>Duck Hunt</td>\n",
       "      <td>26.65</td>\n",
       "    </tr>\n",
       "    <tr>\n",
       "      <th>1</th>\n",
       "      <td>Super Mario Bros.</td>\n",
       "      <td>22.27</td>\n",
       "    </tr>\n",
       "    <tr>\n",
       "      <th>5</th>\n",
       "      <td>Tetris</td>\n",
       "      <td>18.98</td>\n",
       "    </tr>\n",
       "    <tr>\n",
       "      <th>15</th>\n",
       "      <td>Kinect Adventures!</td>\n",
       "      <td>14.73</td>\n",
       "    </tr>\n",
       "    <tr>\n",
       "      <th>3</th>\n",
       "      <td>Wii Sports Resort</td>\n",
       "      <td>12.47</td>\n",
       "    </tr>\n",
       "    <tr>\n",
       "      <th>2</th>\n",
       "      <td>Mario Kart Wii</td>\n",
       "      <td>12.06</td>\n",
       "    </tr>\n",
       "    <tr>\n",
       "      <th>7</th>\n",
       "      <td>Wii Play</td>\n",
       "      <td>11.10</td>\n",
       "    </tr>\n",
       "    <tr>\n",
       "      <th>8</th>\n",
       "      <td>New Super Mario Bros. Wii</td>\n",
       "      <td>9.89</td>\n",
       "    </tr>\n",
       "    <tr>\n",
       "      <th>23</th>\n",
       "      <td>Grand Theft Auto V</td>\n",
       "      <td>9.57</td>\n",
       "    </tr>\n",
       "  </tbody>\n",
       "</table>\n",
       "</div>"
      ],
      "text/plain": [
       "                         Name  Difference\n",
       "0                  Wii Sports       37.72\n",
       "9                   Duck Hunt       26.65\n",
       "1           Super Mario Bros.       22.27\n",
       "5                      Tetris       18.98\n",
       "15         Kinect Adventures!       14.73\n",
       "3           Wii Sports Resort       12.47\n",
       "2              Mario Kart Wii       12.06\n",
       "7                    Wii Play       11.10\n",
       "8   New Super Mario Bros. Wii        9.89\n",
       "23         Grand Theft Auto V        9.57"
      ]
     },
     "execution_count": 11,
     "metadata": {},
     "output_type": "execute_result"
    }
   ],
   "source": [
    "df['Difference'] = df['NA_Sales'] - df['JP_Sales']\n",
    "df[['Name','Difference']].sort_values('Difference',ascending=False).head(10)"
   ]
  },
  {
   "cell_type": "markdown",
   "id": "50edf667",
   "metadata": {
    "papermill": {
     "duration": 0.020514,
     "end_time": "2022-01-21T05:33:31.500480",
     "exception": false,
     "start_time": "2022-01-21T05:33:31.479966",
     "status": "completed"
    },
    "tags": []
   },
   "source": [
    "Show the top 10 most popular game genres and their amount of occurences in the dataset"
   ]
  },
  {
   "cell_type": "code",
   "execution_count": 12,
   "id": "68d55a44",
   "metadata": {
    "execution": {
     "iopub.execute_input": "2022-01-21T05:33:31.546386Z",
     "iopub.status.busy": "2022-01-21T05:33:31.545418Z",
     "iopub.status.idle": "2022-01-21T05:33:31.554726Z",
     "shell.execute_reply": "2022-01-21T05:33:31.555339Z",
     "shell.execute_reply.started": "2022-01-21T05:33:04.033042Z"
    },
    "papermill": {
     "duration": 0.034161,
     "end_time": "2022-01-21T05:33:31.555516",
     "exception": false,
     "start_time": "2022-01-21T05:33:31.521355",
     "status": "completed"
    },
    "tags": []
   },
   "outputs": [
    {
     "data": {
      "text/plain": [
       "Genre\n",
       "Action          3316\n",
       "Sports          2346\n",
       "Misc            1739\n",
       "Role-Playing    1488\n",
       "Shooter         1310\n",
       "Adventure       1286\n",
       "Racing          1249\n",
       "Platform         886\n",
       "Simulation       867\n",
       "Fighting         848\n",
       "dtype: int64"
      ]
     },
     "execution_count": 12,
     "metadata": {},
     "output_type": "execute_result"
    }
   ],
   "source": [
    "df.value_counts('Genre').head(10)"
   ]
  },
  {
   "cell_type": "code",
   "execution_count": 13,
   "id": "963f1082",
   "metadata": {
    "execution": {
     "iopub.execute_input": "2022-01-21T05:33:31.600858Z",
     "iopub.status.busy": "2022-01-21T05:33:31.599919Z",
     "iopub.status.idle": "2022-01-21T05:33:31.607907Z",
     "shell.execute_reply": "2022-01-21T05:33:31.608435Z",
     "shell.execute_reply.started": "2022-01-21T05:33:04.047056Z"
    },
    "papermill": {
     "duration": 0.031991,
     "end_time": "2022-01-21T05:33:31.608595",
     "exception": false,
     "start_time": "2022-01-21T05:33:31.576604",
     "status": "completed"
    },
    "tags": []
   },
   "outputs": [
    {
     "name": "stdout",
     "output_type": "stream",
     "text": [
      "Success!!!\n"
     ]
    }
   ],
   "source": [
    "def test():\n",
    "\n",
    "    def assert_equal(actual,expected):\n",
    "        assert actual == expected, f\"Expected {expected} but got {actual}\"\n",
    "\n",
    "    assert_equal(most_common_publisher, 'Electronic Arts')\n",
    "    assert_equal(most_common_platform, 'DS')\n",
    "    assert_equal(most_common_genre, 'Action')\n",
    "    assert_equal(top_twenty_highest_grossing_games.iloc[0].Name, 'Wii Sports')\n",
    "    assert_equal(top_twenty_highest_grossing_games.iloc[19].Name, 'Brain Age: Train Your Brain in Minutes a Day')\n",
    "    assert_equal(na_median_sales, 0.08)\n",
    "    assert_equal(top_seller_std_diff,50.47898767478096)\n",
    "    \n",
    "\n",
    "    print(\"Success!!!\")\n",
    "\n",
    "test()"
   ]
  },
  {
   "cell_type": "markdown",
   "id": "4ae59955",
   "metadata": {
    "papermill": {
     "duration": 0.021135,
     "end_time": "2022-01-21T05:33:31.650293",
     "exception": false,
     "start_time": "2022-01-21T05:33:31.629158",
     "status": "completed"
    },
    "tags": []
   },
   "source": []
  }
 ],
 "metadata": {
  "kernelspec": {
   "display_name": "Python 3",
   "language": "python",
   "name": "python3"
  },
  "language_info": {
   "codemirror_mode": {
    "name": "ipython",
    "version": 3
   },
   "file_extension": ".py",
   "mimetype": "text/x-python",
   "name": "python",
   "nbconvert_exporter": "python",
   "pygments_lexer": "ipython3",
   "version": "3.7.12"
  },
  "papermill": {
   "default_parameters": {},
   "duration": 11.403403,
   "end_time": "2022-01-21T05:33:32.281032",
   "environment_variables": {},
   "exception": null,
   "input_path": "__notebook__.ipynb",
   "output_path": "__notebook__.ipynb",
   "parameters": {},
   "start_time": "2022-01-21T05:33:20.877629",
   "version": "2.3.3"
  }
 },
 "nbformat": 4,
 "nbformat_minor": 5
}
